{
 "cells": [
  {
   "cell_type": "markdown",
   "id": "22d160d4-d149-4ef7-abe8-21b47bb34982",
   "metadata": {},
   "source": [
    "## Overview\n",
    "\n",
    "This project trains two models, an LSTM recurrent neural network and a Transformer, to classify movie genres based on IMDB descriptions. It then recreates the LSTM interpretation visualizations from Garcia *et. al* 2021: Visual analytics tool for the interpretation of hidden states in recurrent neural networks. (https://vciba.springeropen.com/articles/10.1186/s42492-021-00090-0)"
   ]
  },
  {
   "cell_type": "markdown",
   "id": "daef5bed-0cd5-4556-9f41-67d1503e731c",
   "metadata": {},
   "source": [
    "## Contents\n",
    "\n",
    " 1. [Introduction](#introduction)\n",
    " 2. [Preprocessing](#preprocessing)\n",
    " 3. [LSTM](#lstm) \n",
    "     1.  [Model](#lstm_model)\n",
    "     2.  [Training](#lstm_training)\n",
    " 4. [Transformer](#transformer)\n",
    "     1.  [Model](#transformer_model)\n",
    "     2.  [Training](#transformer_training)\n",
    " 5. [LSTM Visualization](#visualization)"
   ]
  },
  {
   "cell_type": "code",
   "execution_count": 1,
   "id": "6e60a673-6f98-49ba-a534-cb547d6552d7",
   "metadata": {},
   "outputs": [],
   "source": [
    "import numpy as np\n",
    "import pandas as pd\n",
    "import pickle\n",
    "import numpy as np\n",
    "import torch.optim as optim\n",
    "import torch.nn as nn\n",
    "from torch.nn import functional as F\n",
    "from torch.utils.data import Dataset, DataLoader\n",
    "import torchtext\n",
    "torchtext.disable_torchtext_deprecation_warning()\n",
    "\n",
    "from imdb_dataset import *\n",
    "from models import *"
   ]
  },
  {
   "cell_type": "code",
   "execution_count": 2,
   "id": "c6ba2593-fbb9-4cc9-b852-3427a4873863",
   "metadata": {},
   "outputs": [
    {
     "name": "stdout",
     "output_type": "stream",
     "text": [
      "Using cuda device\n"
     ]
    }
   ],
   "source": [
    "DEVICE = (\n",
    "    torch.device('cuda')\n",
    "    if torch.cuda.is_available()\n",
    "    else torch.device('mps')\n",
    "    if torch.backends.mps.is_available()\n",
    "    else torch.device('cpu')\n",
    ")\n",
    "print(f\"Using {DEVICE} device\")"
   ]
  },
  {
   "cell_type": "markdown",
   "id": "71889c26-c98c-4d84-9185-cae44dd4e08e",
   "metadata": {},
   "source": [
    "## 1. Introduction<a name=\"introduction\"></a>\n",
    "\n",
    "The main advantage of Recurrent Neural Networks (RNNs) is that they can process input sequences of arbitrary length, as opposed to traditional neural networks that only process inputs as single vectors of fixed length. This makes them useful for working with time series and text, among other sequential data types. \n",
    "\n",
    "However, this feature of RNNs poses some difficulties for interpreting their reasoning. For traditional neural networks, interpreters can look at single passes through the network, but for RNNs, we need to look at how the network evolves across entire input sequences. Garcia *et. al* demonstrate some interesting RNN visualization techniques using the example of a simple Long Short-Term Memory (LSTM) recurrent network trained to predict whether an IMDB movie review was positive or negative.\n",
    "\n",
    "In this project, we extend these techniques to a multi-class problem: predicting a movie's genre from its IMDB description (https://www.kaggle.com/datasets/hijest/genre-classification-dataset-imdb/data). We use PyTorch to build, train, and evaluate an LSTM network for this task. To compare the LSTM to models that are perhaps more state-of-the-art, we also build, train, and evaluate an encoder-only Transformer model on the same task. We then recreate the visualizations from Garcia *et. al* in a multi-class setting to learn more about how the LSTM reasons."
   ]
  },
  {
   "cell_type": "markdown",
   "id": "202e0671-18d6-4dad-9580-549966905b31",
   "metadata": {},
   "source": [
    "## 2. Preprocessing<a name=\"preprocessing\"></a>\n",
    "\n",
    "This package contains a module, imdb_data_prep.py, that performs the initial preprocessing. It gathers the \"raw\" train and test data into dataframes before cleaning the description text and lemmatizing the result using Spacy. It then builds a PyTorch vocabulary from the lemmatized training set descriptions, and uses the vocabulary to tokenize the descriptions so that they can be input to a PyTorch embedding layer.\n",
    "\n",
    "For both the train and test sets, we load the movie info dataframe and the tokenized representations. We also load the vocabulary.\n",
    "\n",
    "A few notes here:\n",
    " - For now, we limit the dataset to the 3 most common genres: drama, documentary, and comedy.\n",
    " - We limit the descriptions to at most the first 100 words (most contain fewer than that).\n",
    " - When constructing the vocabulary, we set the minimum word frequency at 60. A word must appear at least 60 times in the dataset to get a unique token in the vocabulary; otherwise, it is mapped to the unknown (\"\\<unk>\") token.\n",
    "    - Not every member of the vocabulary is actually a \"word\"; the preprocessing leaves most punctuation in and separates some non-words like possessive morphemes ('s).\n",
    " - For the purposes of constructing the vocabulary and tokenized representations, the relevant column is **lemmatized_description_list_trunc**, which contains the movie descriptions after cleaning, lemmatizing, and truncating to at most 100 words."
   ]
  },
  {
   "cell_type": "code",
   "execution_count": 3,
   "id": "2fec26a0-c69a-4461-9a3d-712912192789",
   "metadata": {},
   "outputs": [],
   "source": [
    "GENRES = ['drama', 'documentary', 'comedy']\n",
    "MIN_FREQ = 60\n",
    "MAX_LENGTH = 100"
   ]
  },
  {
   "cell_type": "code",
   "execution_count": 4,
   "id": "460e96fe-757d-4a10-a847-812642e8bd43",
   "metadata": {},
   "outputs": [
    {
     "data": {
      "text/html": [
       "<div>\n",
       "<style scoped>\n",
       "    .dataframe tbody tr th:only-of-type {\n",
       "        vertical-align: middle;\n",
       "    }\n",
       "\n",
       "    .dataframe tbody tr th {\n",
       "        vertical-align: top;\n",
       "    }\n",
       "\n",
       "    .dataframe thead th {\n",
       "        text-align: right;\n",
       "    }\n",
       "</style>\n",
       "<table border=\"1\" class=\"dataframe\">\n",
       "  <thead>\n",
       "    <tr style=\"text-align: right;\">\n",
       "      <th></th>\n",
       "      <th>title_year</th>\n",
       "      <th>genre</th>\n",
       "      <th>description</th>\n",
       "      <th>title</th>\n",
       "      <th>year</th>\n",
       "      <th>clean_description</th>\n",
       "      <th>clean_description_list</th>\n",
       "      <th>lemmatized_description_list</th>\n",
       "      <th>clean_description_list_trunc</th>\n",
       "      <th>lemmatized_description_list_trunc</th>\n",
       "    </tr>\n",
       "  </thead>\n",
       "  <tbody>\n",
       "    <tr>\n",
       "      <th>0</th>\n",
       "      <td>Oscar et la dame rose (2009)</td>\n",
       "      <td>drama</td>\n",
       "      <td>Listening in to a conversation between his doc...</td>\n",
       "      <td>Oscar et la dame rose</td>\n",
       "      <td>2009</td>\n",
       "      <td>Listening in to a conversation between his doc...</td>\n",
       "      <td>[Listening, in, to, a, conversation, between, ...</td>\n",
       "      <td>[listen, in, to, a, conversation, between, his...</td>\n",
       "      <td>[Listening, in, to, a, conversation, between, ...</td>\n",
       "      <td>[listen, in, to, a, conversation, between, his...</td>\n",
       "    </tr>\n",
       "    <tr>\n",
       "      <th>1</th>\n",
       "      <td>The Secret Sin (1915)</td>\n",
       "      <td>drama</td>\n",
       "      <td>To help their unemployed father make ends meet...</td>\n",
       "      <td>The Secret Sin</td>\n",
       "      <td>1915</td>\n",
       "      <td>To help their unemployed father make ends meet...</td>\n",
       "      <td>[To, help, their, unemployed, father, make, en...</td>\n",
       "      <td>[to, help, their, unemployed, father, make, en...</td>\n",
       "      <td>[To, help, their, unemployed, father, make, en...</td>\n",
       "      <td>[to, help, their, unemployed, father, make, en...</td>\n",
       "    </tr>\n",
       "    <tr>\n",
       "      <th>2</th>\n",
       "      <td>The Unrecovered (2007)</td>\n",
       "      <td>drama</td>\n",
       "      <td>The film's title refers not only to the un-rec...</td>\n",
       "      <td>The Unrecovered</td>\n",
       "      <td>2007</td>\n",
       "      <td>The film's title refers not only to the un-rec...</td>\n",
       "      <td>[The, film, 's, title, refers, not, only, to, ...</td>\n",
       "      <td>[the, film, 's, title, refer, not, only, to, t...</td>\n",
       "      <td>[The, film, 's, title, refers, not, only, to, ...</td>\n",
       "      <td>[the, film, 's, title, refer, not, only, to, t...</td>\n",
       "    </tr>\n",
       "    <tr>\n",
       "      <th>3</th>\n",
       "      <td>Quality Control (2011)</td>\n",
       "      <td>documentary</td>\n",
       "      <td>Quality Control consists of a series of 16mm s...</td>\n",
       "      <td>Quality Control</td>\n",
       "      <td>2011</td>\n",
       "      <td>Quality Control consists of a series of 16mm s...</td>\n",
       "      <td>[Quality, Control, consists, of, a, series, of...</td>\n",
       "      <td>[Quality, Control, consist, of, a, series, of,...</td>\n",
       "      <td>[Quality, Control, consists, of, a, series, of...</td>\n",
       "      <td>[Quality, Control, consist, of, a, series, of,...</td>\n",
       "    </tr>\n",
       "    <tr>\n",
       "      <th>4</th>\n",
       "      <td>\"Pink Slip\" (2009)</td>\n",
       "      <td>comedy</td>\n",
       "      <td>In tough economic times Max and Joey have all ...</td>\n",
       "      <td>Pink Slip</td>\n",
       "      <td>2009</td>\n",
       "      <td>In tough economic times Max and Joey have all ...</td>\n",
       "      <td>[In, tough, economic, times, Max, and, Joey, h...</td>\n",
       "      <td>[in, tough, economic, time, Max, and, Joey, ha...</td>\n",
       "      <td>[In, tough, economic, times, Max, and, Joey, h...</td>\n",
       "      <td>[in, tough, economic, time, Max, and, Joey, ha...</td>\n",
       "    </tr>\n",
       "  </tbody>\n",
       "</table>\n",
       "</div>"
      ],
      "text/plain": [
       "                     title_year        genre  \\\n",
       "0  Oscar et la dame rose (2009)        drama   \n",
       "1         The Secret Sin (1915)        drama   \n",
       "2        The Unrecovered (2007)        drama   \n",
       "3        Quality Control (2011)  documentary   \n",
       "4            \"Pink Slip\" (2009)       comedy   \n",
       "\n",
       "                                         description                  title  \\\n",
       "0  Listening in to a conversation between his doc...  Oscar et la dame rose   \n",
       "1  To help their unemployed father make ends meet...         The Secret Sin   \n",
       "2  The film's title refers not only to the un-rec...        The Unrecovered   \n",
       "3  Quality Control consists of a series of 16mm s...        Quality Control   \n",
       "4  In tough economic times Max and Joey have all ...              Pink Slip   \n",
       "\n",
       "   year                                  clean_description  \\\n",
       "0  2009  Listening in to a conversation between his doc...   \n",
       "1  1915  To help their unemployed father make ends meet...   \n",
       "2  2007  The film's title refers not only to the un-rec...   \n",
       "3  2011  Quality Control consists of a series of 16mm s...   \n",
       "4  2009  In tough economic times Max and Joey have all ...   \n",
       "\n",
       "                              clean_description_list  \\\n",
       "0  [Listening, in, to, a, conversation, between, ...   \n",
       "1  [To, help, their, unemployed, father, make, en...   \n",
       "2  [The, film, 's, title, refers, not, only, to, ...   \n",
       "3  [Quality, Control, consists, of, a, series, of...   \n",
       "4  [In, tough, economic, times, Max, and, Joey, h...   \n",
       "\n",
       "                         lemmatized_description_list  \\\n",
       "0  [listen, in, to, a, conversation, between, his...   \n",
       "1  [to, help, their, unemployed, father, make, en...   \n",
       "2  [the, film, 's, title, refer, not, only, to, t...   \n",
       "3  [Quality, Control, consist, of, a, series, of,...   \n",
       "4  [in, tough, economic, time, Max, and, Joey, ha...   \n",
       "\n",
       "                        clean_description_list_trunc  \\\n",
       "0  [Listening, in, to, a, conversation, between, ...   \n",
       "1  [To, help, their, unemployed, father, make, en...   \n",
       "2  [The, film, 's, title, refers, not, only, to, ...   \n",
       "3  [Quality, Control, consists, of, a, series, of...   \n",
       "4  [In, tough, economic, times, Max, and, Joey, h...   \n",
       "\n",
       "                   lemmatized_description_list_trunc  \n",
       "0  [listen, in, to, a, conversation, between, his...  \n",
       "1  [to, help, their, unemployed, father, make, en...  \n",
       "2  [the, film, 's, title, refer, not, only, to, t...  \n",
       "3  [Quality, Control, consist, of, a, series, of,...  \n",
       "4  [in, tough, economic, time, Max, and, Joey, ha...  "
      ]
     },
     "execution_count": 4,
     "metadata": {},
     "output_type": "execute_result"
    }
   ],
   "source": [
    "df = pd.read_pickle('data/imdb_train_processed_{}.pkl'.format(len(GENRES)))\n",
    "df_test = pd.read_pickle('data/imdb_test_processed_{}.pkl'.format(len(GENRES)))\n",
    "df.head()"
   ]
  },
  {
   "cell_type": "code",
   "execution_count": 5,
   "id": "0772c2db-52b7-4e64-b91c-6750aeae8b6d",
   "metadata": {},
   "outputs": [
    {
     "name": "stdout",
     "output_type": "stream",
     "text": [
      "Training points: 34156\n",
      "Testing points: 34154\n"
     ]
    }
   ],
   "source": [
    "X_train = torch.load('data/X_train_{}_{}_{}.pt'.format(len(GENRES), MIN_FREQ, MAX_LENGTH))\n",
    "y_train = torch.load('data/y_train_{}_{}_{}.pt'.format(len(GENRES), MIN_FREQ, MAX_LENGTH))\n",
    "X_test = torch.load('data/X_test_{}_{}_{}.pt'.format(len(GENRES), MIN_FREQ, MAX_LENGTH))\n",
    "y_test = torch.load('data/y_test_{}_{}_{}.pt'.format(len(GENRES), MIN_FREQ, MAX_LENGTH))\n",
    "\n",
    "vocab = torch.load('saved_models/vocab_{}_{}_{}.pt'.format(len(GENRES), MIN_FREQ, MAX_LENGTH))\n",
    "\n",
    "with open('data/train_lengths_{}_{}_{}.pkl'.format(len(GENRES), MIN_FREQ, MAX_LENGTH), 'rb') as f:\n",
    "    train_lengths = pickle.load(f)\n",
    "with open('data/test_lengths_{}_{}_{}.pkl'.format(len(GENRES), MIN_FREQ, MAX_LENGTH), 'rb') as f:\n",
    "    test_lengths = pickle.load(f)\n",
    "\n",
    "print('Training points:', len(X_train))\n",
    "print('Testing points:', len(X_test))"
   ]
  },
  {
   "cell_type": "code",
   "execution_count": 6,
   "id": "2bad6d77-4c4c-4c31-9c5f-784aedaa4519",
   "metadata": {},
   "outputs": [],
   "source": [
    "X_train = X_train.to(device=DEVICE)\n",
    "y_train = y_train.to(device=DEVICE)\n",
    "X_test = X_test.to(device=DEVICE)\n",
    "y_test = y_test.to(device=DEVICE)"
   ]
  },
  {
   "cell_type": "code",
   "execution_count": 7,
   "id": "b9c6197e-bf5e-40e4-9c48-ab8964a26b91",
   "metadata": {},
   "outputs": [
    {
     "name": "stdout",
     "output_type": "stream",
     "text": [
      "genre\n",
      "drama          13613\n",
      "documentary    13096\n",
      "comedy          7447\n",
      "Name: count, dtype: int64\n"
     ]
    }
   ],
   "source": [
    "print(df['genre'].value_counts())"
   ]
  },
  {
   "cell_type": "markdown",
   "id": "b2073f02-1883-4df0-ab57-cba8694c08cf",
   "metadata": {},
   "source": [
    "The training dataset contains 34,156 movies: 13,613 dramas, 13,096 documentaries, and 7447 comedies."
   ]
  },
  {
   "cell_type": "code",
   "execution_count": 8,
   "id": "994f70ee-ecf6-42b3-8b1a-a776b4989278",
   "metadata": {},
   "outputs": [
    {
     "name": "stdout",
     "output_type": "stream",
     "text": [
      "Vocab size: 3527\n"
     ]
    }
   ],
   "source": [
    "print('Vocab size:', len(vocab))\n",
    "# min_freq - 40: 4821.  50: 4068.  60: 3525.  80: 2832.  100: 2391.\n",
    "# unknown %: 40: 0.105. 50: 0.118. 60: 0.129. 80: 0.145. 100: 0.159."
   ]
  },
  {
   "cell_type": "code",
   "execution_count": 9,
   "id": "0eabb31a-4a4a-48b7-80c0-8d712414b786",
   "metadata": {},
   "outputs": [
    {
     "data": {
      "text/plain": [
       "1    0.128647\n",
       "3    0.051361\n",
       "4    0.049624\n",
       "5    0.036961\n",
       "6    0.029225\n",
       "Name: proportion, dtype: float64"
      ]
     },
     "execution_count": 9,
     "metadata": {},
     "output_type": "execute_result"
    }
   ],
   "source": [
    "pd.Series(X_train[(X_train!=0)&(X_train!=2)].flatten().cpu()).value_counts(normalize=True).head(5)"
   ]
  },
  {
   "cell_type": "markdown",
   "id": "719ddd62-f9e3-49ff-bd9a-e868338a18e0",
   "metadata": {},
   "source": [
    "The vocab contains 3526 unique tokens (including the padding token and \"unknown\", which accounts for 12.9% of the non-padding training data). The 20 most- and least-common words in the vocabulary are displayed below."
   ]
  },
  {
   "cell_type": "code",
   "execution_count": 10,
   "id": "afb2e2ca-4f8a-4cee-953f-4eb8c071f2db",
   "metadata": {},
   "outputs": [
    {
     "name": "stdout",
     "output_type": "stream",
     "text": [
      "['<cls>', '<unk>', '<pad>', 'the', ',', '.', 'and', 'a', 'of', 'be', 'to', 'in', 'his', '-', 'he', 'with', \"'s\", 'have', 'for', 'that']\n",
      "['bombing', 'capable', 'cow', 'downtown', 'guidance', 'hook', 'infant', 'insane', 'miserable', 'negative', 'peculiar', 'print', 'revive', 'screenwriter', 'semi', 'sharp', 'stretch', 'surrounding', 'unveil', 'y']\n"
     ]
    }
   ],
   "source": [
    "print(vocab.get_itos()[:20])\n",
    "print(vocab.get_itos()[-20:])"
   ]
  },
  {
   "cell_type": "markdown",
   "id": "4dd6adda",
   "metadata": {},
   "source": [
    "We create custom PyTorch Dataset objects (found in imdb_dataset.py) for the train and test sets. These will be used to create the Dataloaders that get fed to the model."
   ]
  },
  {
   "cell_type": "code",
   "execution_count": 11,
   "id": "72d597c7-02e1-49f4-a8e2-21d0d76248fe",
   "metadata": {},
   "outputs": [],
   "source": [
    "train_dataset = IMDB_Dataset(X_train, train_lengths, y_train)\n",
    "test_dataset = IMDB_Dataset(X_test, test_lengths, y_test)"
   ]
  },
  {
   "cell_type": "markdown",
   "id": "0bd4c53a",
   "metadata": {},
   "source": [
    "## 3. LSTM<a name=\"lstm\"></a>"
   ]
  },
  {
   "cell_type": "markdown",
   "id": "a904c95b",
   "metadata": {},
   "source": [
    "### 3.A. Model<a name=\"lstm_model\"></a>\n",
    "The code for the LSTM model can be found in another module in this package, models.py, and is copied below. The model is a recurrent network that sequentially takes each input through an embedding layer, single LSTM layer, dropout layer, and linear layer with softmax activation. We set the embedding size to 64 and the hidden size to 128. The output size is of course 3, with probability assigned to each genre."
   ]
  },
  {
   "cell_type": "code",
   "execution_count": 12,
   "id": "4d4a1676-229b-4c47-9975-c3e9df863ada",
   "metadata": {},
   "outputs": [],
   "source": [
    "class LSTM(nn.Module):\n",
    "    def __init__(self, vocab, embedding_size, hidden_size, output_size, batch_size=1):\n",
    "        super().__init__()\n",
    "\n",
    "        self.padding_value = vocab['<pad>']\n",
    "        self.vocab_size = len(vocab)\n",
    "\n",
    "        self.hidden_size = hidden_size\n",
    "        self.batch_size = batch_size\n",
    "\n",
    "        self.embedding = nn.Embedding(self.vocab_size, embedding_size)\n",
    "        self.lstm = nn.LSTM(embedding_size, hidden_size, batch_first=True)\n",
    "        self.dropout = nn.Dropout(0.2)\n",
    "        self.h_2_o = nn.Linear(hidden_size, output_size)\n",
    "        self.log_softmax = nn.LogSoftmax(dim=1)\n",
    "\n",
    "        self.softmax = nn.Softmax(dim=-1)\n",
    "\n",
    "    def forward(self, input_tensor, lengths):\n",
    "        embeds = self.embedding(input_tensor)\n",
    "        packed_embeds = pack_padded_sequence(embeds, lengths, batch_first=True, enforce_sorted=False)\n",
    "        packed_hidden, _ = self.lstm(packed_embeds)\n",
    "        hidden, _ = pad_packed_sequence(packed_hidden, batch_first=True, padding_value=self.padding_value)\n",
    "        hidden = self.dropout(hidden)\n",
    "        # keep only the last unpadded hidden state using lengths\n",
    "        hidden = torch.stack([h[length-1] for h, length in zip(hidden, lengths)])\n",
    "        output = self.h_2_o(hidden)\n",
    "        output = self.log_softmax(output)\n",
    "        return output\n",
    "    \n",
    "    def get_batch_hiddens_and_outputs(self, input_tensor, lengths, mode='numpy'):\n",
    "        \"\"\"\n",
    "        Get unpadded hidden states and outputs for a batch of inputs.\n",
    "        Returns lists of tensors because unpadded hiddens and outputs vary in length.\n",
    "        Params:\n",
    "            input_tensor: tensor of shape (batch_size, max_length)\n",
    "            lengths: list of integers\n",
    "            mode: 'numpy' or 'torch'\n",
    "        Returns:\n",
    "            hidden: list of tensors of varying shapes (time_steps, hidden_size)\n",
    "            output: list of tensors of varying shapes (time_steps, hidden_size)\n",
    "        \"\"\"\n",
    "        embeds = self.embedding(input_tensor)\n",
    "        packed_embeds = pack_padded_sequence(embeds, lengths, batch_first=True, enforce_sorted=False)\n",
    "        packed_hidden, _ = self.lstm(packed_embeds)\n",
    "        hidden, _ = pad_packed_sequence(packed_hidden, batch_first=True, padding_value=self.padding_value)\n",
    "        output = self.h_2_o(hidden)\n",
    "        output = self.softmax(output)\n",
    "\n",
    "        if mode == 'numpy':\n",
    "            hidden = [h[:length].detach().numpy() for h, length in zip(hidden, lengths)]\n",
    "            output = [o[:length].detach().numpy() for o, length in zip(output, lengths)]\n",
    "        elif mode == 'torch':\n",
    "            hidden = [h[:length] for h, length in zip(hidden, lengths)]\n",
    "            output = [o[:length] for o, length in zip(output, lengths)]\n",
    "\n",
    "        return hidden, output\n",
    "    \n",
    "    def get_all_hiddens_and_outputs(self, dataloader, mode='numpy'):\n",
    "        \"\"\"\n",
    "        Get all hidden states and outputs for a dataloader.\n",
    "        Params:\n",
    "            dataloader: DataLoader object for IMDBDataset\n",
    "            mode: 'numpy' or 'torch'\n",
    "        Returns:\n",
    "            all_hiddens: list of tensors of varying shapes (time_steps, hidden_size)\n",
    "            all_outputs: list of tensors of varying shapes (time_steps, output_size)\n",
    "        \"\"\"\n",
    "        # initialize variables\n",
    "        all_hiddens, all_outputs = [], []\n",
    "        # set evaluation mode\n",
    "        self.eval()\n",
    "        with torch.no_grad():\n",
    "            for i, (input_tensor, lengths, category_tensor) in enumerate(dataloader):\n",
    "                batch_hiddens, batch_outputs = self.get_batch_hiddens_and_outputs(input_tensor, lengths, mode=mode)\n",
    "                all_hiddens += batch_hiddens\n",
    "                all_outputs += batch_outputs\n",
    "        return all_hiddens, all_outputs\n",
    "\n",
    "    def evaluate_batch(self, X, lengths, y, loss_criterion): # assumes self.eval()\n",
    "        \"\"\"\n",
    "        Calculate loss and accuracy (# correct and # total) for a batch of inputs.\n",
    "        Assumes self is in evaluation mode (self.eval()).\n",
    "        Params:\n",
    "            X: tensor of shape (batch_size, max_length)\n",
    "            lengths: list of integers\n",
    "            y: tensor of shape (batch_size)\n",
    "        Returns:\n",
    "            loss: scalar\n",
    "            n_correct: int\n",
    "            n_total: int\n",
    "        \"\"\"\n",
    "        outputs = self(X, lengths)\n",
    "        predictions = outputs.topk(1)[1]\n",
    "        # calculate loss\n",
    "        loss = loss_criterion(outputs, y).item()    \n",
    "        # calculate no. of correct predictions              \n",
    "        n_correct = torch.sum(predictions == y.view(-1, 1)).item() \n",
    "\n",
    "        return loss, (n_correct, len(X))\n",
    "    \n",
    "    def evaluate(self, dataloader, loss_criterion):\n",
    "        \"\"\"\n",
    "        Calculate loss and accuracy for all inputs in a dataloader.\n",
    "        Params:\n",
    "            dataloader: DataLoader object for IMDBDataset\n",
    "            loss_criterion: loss function\n",
    "        Returns:\n",
    "            loss: float\n",
    "            acc: float\n",
    "        \"\"\"\n",
    "        # initialize variables\n",
    "        losses = []\n",
    "        n_correct, n_total = 0, 0\n",
    "        # set evaluation mode\n",
    "        self.eval()\n",
    "        # iterate over batches\n",
    "        with torch.no_grad():\n",
    "            for i, (input_tensor, lengths, category_tensor) in enumerate(dataloader): # iterate over batches\n",
    "                batch_loss, (batch_correct, batch_size) = self.evaluate_batch(input_tensor, lengths, category_tensor, loss_criterion)\n",
    "                losses.append(batch_loss)\n",
    "                n_correct += batch_correct\n",
    "                n_total += batch_size\n",
    "        acc = n_correct/n_total\n",
    "        return np.mean(losses), acc\n",
    "\n",
    "    def train_batch(self, input_tensor, lengths, category_tensor, loss_criterion, optimizer):\n",
    "        \"\"\"\n",
    "        Train the model on a single batch.\n",
    "        Params:\n",
    "            input_tensor: tensor of shape (batch_size, max_length)\n",
    "            lengths: list of integers\n",
    "            category_tensor: tensor of shape (batch_size)\n",
    "            loss_criterion: loss function\n",
    "            optimizer: optimizer\n",
    "        \"\"\"\n",
    "        # reset gradients\n",
    "        self.zero_grad()\n",
    "        # get batch model output\n",
    "        output = self(input_tensor, lengths)\n",
    "        # calculate loss\n",
    "        loss = loss_criterion(output, category_tensor)\n",
    "        # backpropagate\n",
    "        loss.backward()\n",
    "        optimizer.step()\n",
    "        return loss.item()\n",
    "\n",
    "    def train_epoch(self, dataloader, loss_criterion, optimizer):\n",
    "        \"\"\"\n",
    "        Train the model for one epoch.\n",
    "        Params:\n",
    "            dataloader: DataLoader object for IMDBDataset\n",
    "            loss_criterion: loss function\n",
    "            optimizer: optimizer\n",
    "        \"\"\"\n",
    "        # set training mode\n",
    "        self.train() \n",
    "        # iterate over batches\n",
    "        for i, (input_tensor, lengths, category_tensor) in enumerate(dataloader):\n",
    "            batch_loss = self.train_batch(input_tensor, lengths, category_tensor, loss_criterion, optimizer)\n",
    "\n",
    "    def fit(self, \n",
    "            train_dataloader,\n",
    "            loss_criterion,\n",
    "            optimizer, \n",
    "            epochs=1,\n",
    "            track_train_stats=False, # bool\n",
    "            track_test_stats=False, # bool\n",
    "            test_dataloader=None, # DataLoader object for IMDBDataset\n",
    "            test_every=1, # int >= 1\n",
    "            verbose=False # bool\n",
    "            ):\n",
    "        \"\"\"\n",
    "        Train the model for a specified number of epochs.\n",
    "        Params:\n",
    "            train_dataloader: DataLoader object for IMDBDataset\n",
    "            loss_criterion: loss function\n",
    "            optimizer: optimizer\n",
    "            epochs: int\n",
    "        \"\"\"\n",
    "        # sanity checks\n",
    "        assert test_every >= 1, 'test_every must be >= 1'\n",
    "        assert not track_test_stats or test_dataloader is not None, 'Please set track_test_stats to False or specify test dataloader.'\n",
    "        # iterate over epochs\n",
    "        for epoch in range(epochs):\n",
    "            if verbose:\n",
    "                print('Epoch ' + str(epoch+1))\n",
    "            # run one training epoch\n",
    "            self.train_epoch(train_dataloader, loss_criterion, optimizer)\n",
    "            # optionally track training stats\n",
    "            if track_train_stats:\n",
    "                if epoch % test_every == 0:\n",
    "                    train_loss, train_accuracy = self.evaluate(train_dataloader, loss_criterion)\n",
    "                    if verbose:\n",
    "                        print('Train Loss: ' + str(round(train_loss, 3)) + '. Train Accuracy: ' + str(round(train_accuracy, 3)))\n",
    "            # optionally track test stats\n",
    "            if track_test_stats:\n",
    "                if epoch % test_every == 0:\n",
    "                    test_loss, test_accuracy = self.evaluate(test_dataloader, loss_criterion)\n",
    "                    if verbose:\n",
    "                        print('Test Loss:  ' + str(round(test_loss, 3)) + '. Test Accuracy:  ' + str(round(test_accuracy, 3)))"
   ]
  },
  {
   "cell_type": "code",
   "execution_count": 13,
   "id": "f35a11a1-fd42-444c-a898-920f88a1a508",
   "metadata": {},
   "outputs": [],
   "source": [
    "batch_size = 32\n",
    "embedding_size = 64\n",
    "hidden_size = 128 \n",
    "output_size = len(GENRES)"
   ]
  },
  {
   "cell_type": "code",
   "execution_count": 14,
   "id": "1e07960f-950a-49c9-9640-7c5b38f050ee",
   "metadata": {},
   "outputs": [],
   "source": [
    "torch.manual_seed(0)\n",
    "\n",
    "train_dataloader = DataLoader(train_dataset, batch_size=batch_size, shuffle=True)\n",
    "test_dataloader = DataLoader(test_dataset, batch_size=batch_size, shuffle=False)"
   ]
  },
  {
   "cell_type": "code",
   "execution_count": 15,
   "id": "8054d66a-20dd-4f66-97bb-500972156bf6",
   "metadata": {},
   "outputs": [
    {
     "data": {
      "text/plain": [
       "LSTM(\n",
       "  (embedding): Embedding(3527, 64)\n",
       "  (lstm): LSTM(64, 128, batch_first=True)\n",
       "  (dropout): Dropout(p=0.2, inplace=False)\n",
       "  (h_2_o): Linear(in_features=128, out_features=3, bias=True)\n",
       "  (log_softmax): LogSoftmax(dim=1)\n",
       "  (softmax): Softmax(dim=-1)\n",
       ")"
      ]
     },
     "execution_count": 15,
     "metadata": {},
     "output_type": "execute_result"
    }
   ],
   "source": [
    "lstm = LSTM(vocab, embedding_size, hidden_size, output_size).to(device=DEVICE)\n",
    "lstm"
   ]
  },
  {
   "cell_type": "markdown",
   "id": "fd282711-b4c8-419c-ba13-3dac146d9fe7",
   "metadata": {},
   "source": [
    "Training will attempt to minimize the negative log likelihood loss. The class memberships are imbalanced, with a little over half as many comedies as each of the other genres. To deal with this issue, the loss function gives each class a weight that's inversely proportional to its size. "
   ]
  },
  {
   "cell_type": "code",
   "execution_count": 16,
   "id": "fcb1cf41-a7d0-4319-825e-f7e2b6bf1679",
   "metadata": {},
   "outputs": [
    {
     "data": {
      "text/plain": [
       "tensor([0.2586, 0.2688, 0.4727], device='cuda:0')"
      ]
     },
     "execution_count": 16,
     "metadata": {},
     "output_type": "execute_result"
    }
   ],
   "source": [
    "n_tot = len(X_train)\n",
    "genre_weights = []\n",
    "for genre in GENRES:\n",
    "    p = len(df[df['genre']==genre])/n_tot\n",
    "    genre_weights.append(1/p)\n",
    "genre_weights = nn.functional.normalize(torch.tensor(genre_weights, device=DEVICE), p=1, dim=0)\n",
    "genre_weights"
   ]
  },
  {
   "cell_type": "code",
   "execution_count": 17,
   "id": "31bfe1e9-feee-409e-80da-50ca17464e63",
   "metadata": {},
   "outputs": [],
   "source": [
    "loss_criterion=nn.NLLLoss(weight=genre_weights, reduction='mean')"
   ]
  },
  {
   "cell_type": "markdown",
   "id": "24bad12e-b634-41e9-88d4-406326ea9a1c",
   "metadata": {},
   "source": [
    "### 3.B. Training<a name=\"lstm_training\"></a>\n",
    "\n",
    "We train the LSTM model for 15 epochs with a batch size of 32, keeping track of both training and test set accuracy after each epoch."
   ]
  },
  {
   "cell_type": "code",
   "execution_count": 18,
   "id": "dc7587fb-f024-423a-b5f3-604c650c0ac7",
   "metadata": {},
   "outputs": [],
   "source": [
    "optimizer = optim.Adam(lstm.parameters(), lr=0.001)"
   ]
  },
  {
   "cell_type": "code",
   "execution_count": 19,
   "id": "86db96ef-c738-4fcd-9fd3-184c02c1cfbc",
   "metadata": {},
   "outputs": [
    {
     "name": "stdout",
     "output_type": "stream",
     "text": [
      "Epoch 1\n",
      "Train Loss: 1.034. Train Accuracy: 0.5\n",
      "Test Loss:  1.039. Test Accuracy:  0.495\n",
      "Epoch 2\n",
      "Train Loss: 0.672. Train Accuracy: 0.718\n",
      "Test Loss:  0.709. Test Accuracy:  0.7\n",
      "Epoch 3\n",
      "Train Loss: 0.601. Train Accuracy: 0.763\n",
      "Test Loss:  0.671. Test Accuracy:  0.735\n",
      "Epoch 4\n",
      "Train Loss: 0.497. Train Accuracy: 0.802\n",
      "Test Loss:  0.604. Test Accuracy:  0.756\n",
      "Epoch 5\n",
      "Train Loss: 0.452. Train Accuracy: 0.805\n",
      "Test Loss:  0.6. Test Accuracy:  0.743\n",
      "Epoch 6\n",
      "Train Loss: 0.407. Train Accuracy: 0.839\n",
      "Test Loss:  0.586. Test Accuracy:  0.757\n",
      "Epoch 7\n",
      "Train Loss: 0.356. Train Accuracy: 0.863\n",
      "Test Loss:  0.623. Test Accuracy:  0.76\n",
      "Epoch 8\n",
      "Train Loss: 0.313. Train Accuracy: 0.885\n",
      "Test Loss:  0.645. Test Accuracy:  0.76\n",
      "Epoch 9\n",
      "Train Loss: 0.259. Train Accuracy: 0.912\n",
      "Test Loss:  0.692. Test Accuracy:  0.758\n",
      "Epoch 10\n",
      "Train Loss: 0.223. Train Accuracy: 0.919\n",
      "Test Loss:  0.733. Test Accuracy:  0.751\n",
      "Epoch 11\n",
      "Train Loss: 0.171. Train Accuracy: 0.939\n",
      "Test Loss:  0.863. Test Accuracy:  0.751\n",
      "Epoch 12\n",
      "Train Loss: 0.137. Train Accuracy: 0.953\n",
      "Test Loss:  0.938. Test Accuracy:  0.75\n",
      "Epoch 13\n",
      "Train Loss: 0.109. Train Accuracy: 0.966\n",
      "Test Loss:  1.028. Test Accuracy:  0.747\n",
      "Epoch 14\n",
      "Train Loss: 0.083. Train Accuracy: 0.975\n",
      "Test Loss:  1.17. Test Accuracy:  0.747\n",
      "Epoch 15\n",
      "Train Loss: 0.074. Train Accuracy: 0.979\n",
      "Test Loss:  1.24. Test Accuracy:  0.745\n"
     ]
    }
   ],
   "source": [
    "lstm.fit(train_dataloader,\n",
    "         loss_criterion,\n",
    "         optimizer, \n",
    "         epochs=15, # 15\n",
    "         track_train_stats=True,\n",
    "         track_test_stats=True,\n",
    "         test_dataloader=test_dataloader,\n",
    "         verbose=True\n",
    "         )"
   ]
  },
  {
   "cell_type": "markdown",
   "id": "539398c0-73e7-4427-bfea-62e0f7f998b6",
   "metadata": {},
   "source": [
    "Though training set accuracy generally increases throughout training, test set accuracy peaks after epoch 7 at 76% before plateauing. We'll train a new model (with the same random seeds, so the same results) for 7 epochs and use it in the visualizations. "
   ]
  },
  {
   "cell_type": "code",
   "execution_count": 20,
   "id": "8dd3e5e7",
   "metadata": {},
   "outputs": [],
   "source": [
    "torch.save(lstm.state_dict(), 'saved_models/imdb_lstm_temp_{}_{}_{}.pt'.format(len(GENRES), MIN_FREQ, MAX_LENGTH))"
   ]
  },
  {
   "cell_type": "code",
   "execution_count": 21,
   "id": "246759fd-cc12-4233-a6b6-685e32458f01",
   "metadata": {},
   "outputs": [],
   "source": [
    "torch.manual_seed(0)\n",
    "\n",
    "train_dataloader = DataLoader(train_dataset, batch_size=batch_size, shuffle=True)\n",
    "test_dataloader = DataLoader(test_dataset, batch_size=batch_size, shuffle=False)"
   ]
  },
  {
   "cell_type": "code",
   "execution_count": 22,
   "id": "19848319-d314-4848-b665-3420d1cfe672",
   "metadata": {},
   "outputs": [],
   "source": [
    "lstm = LSTM(vocab, embedding_size, hidden_size, output_size).to(device=DEVICE)"
   ]
  },
  {
   "cell_type": "code",
   "execution_count": 23,
   "id": "e551b869-613b-4c2f-8bf4-5da7f96447fd",
   "metadata": {},
   "outputs": [],
   "source": [
    "optimizer = optim.Adam(lstm.parameters(), lr=0.001)"
   ]
  },
  {
   "cell_type": "code",
   "execution_count": 24,
   "id": "3e7fcdfc-d38b-4a7d-8095-9fad4989c895",
   "metadata": {},
   "outputs": [
    {
     "name": "stdout",
     "output_type": "stream",
     "text": [
      "Epoch 1\n",
      "Train Loss: 1.034. Train Accuracy: 0.5\n",
      "Test Loss:  1.039. Test Accuracy:  0.495\n",
      "Epoch 2\n",
      "Train Loss: 0.672. Train Accuracy: 0.718\n",
      "Test Loss:  0.709. Test Accuracy:  0.7\n",
      "Epoch 3\n",
      "Train Loss: 0.601. Train Accuracy: 0.763\n",
      "Test Loss:  0.671. Test Accuracy:  0.735\n",
      "Epoch 4\n",
      "Train Loss: 0.497. Train Accuracy: 0.802\n",
      "Test Loss:  0.604. Test Accuracy:  0.756\n",
      "Epoch 5\n",
      "Train Loss: 0.452. Train Accuracy: 0.805\n",
      "Test Loss:  0.6. Test Accuracy:  0.743\n",
      "Epoch 6\n",
      "Train Loss: 0.407. Train Accuracy: 0.839\n",
      "Test Loss:  0.586. Test Accuracy:  0.757\n",
      "Epoch 7\n",
      "Train Loss: 0.356. Train Accuracy: 0.863\n",
      "Test Loss:  0.623. Test Accuracy:  0.76\n"
     ]
    }
   ],
   "source": [
    "lstm.fit(train_dataloader,\n",
    "         loss_criterion,\n",
    "         optimizer, \n",
    "         epochs=7,\n",
    "         track_train_stats=True,\n",
    "         track_test_stats=True,\n",
    "         test_dataloader=test_dataloader,\n",
    "         verbose=True\n",
    "         )"
   ]
  },
  {
   "cell_type": "code",
   "execution_count": 25,
   "id": "4040ceae-d1fa-4fd5-9f11-cf41a5f0f057",
   "metadata": {},
   "outputs": [],
   "source": [
    "torch.save(lstm.state_dict(), 'saved_models/imdb_lstm_{}_{}_{}.pt'.format(len(GENRES), MIN_FREQ, MAX_LENGTH))"
   ]
  },
  {
   "cell_type": "markdown",
   "id": "6c0d892f",
   "metadata": {},
   "source": [
    "## 4. Transformer<a name=\"transformer\"></a>"
   ]
  },
  {
   "cell_type": "markdown",
   "id": "9dd42474",
   "metadata": {},
   "source": [
    "### 4.A. Model<a name=\"transformer_model\"></a>\n",
    "\n",
    "For the sake of comparison, we also train a Transformer model on this task. The model code is adapted for text classification from code by Andrej Karpathy for a simple GPT model (https://github.com/karpathy/ng-video-lecture/blob/master/gpt.py). The model used in this project is an \"encoder-only\" Transformer, taking inputs through only the Encoder module of a Transformer. We use the embedding size and head number hyperparameters from the original code, but only \"stack\" a single multi-attention head.\n",
    "\n",
    "Following the approach in Devlin *et. al* 2019 (BERT: Pre-training of Deep Bidirectional Transformers for\n",
    "Language Understanding), we prepend a special [CLS] token to each description. The encoder outputs corresponding to this content-free token are run through a linear classifier to produce genre predictions."
   ]
  },
  {
   "cell_type": "code",
   "execution_count": 26,
   "id": "958319a8",
   "metadata": {},
   "outputs": [],
   "source": [
    "block_size = 101 # what is the maximum context length for predictions?\n",
    "n_embd = 384\n",
    "n_head = 6\n",
    "n_layer = 1\n",
    "dropout = 0.2\n",
    "\n",
    "vocab_size = len(vocab)\n",
    "\n",
    "class Head(nn.Module):\n",
    "    \"\"\" one head of self-attention \"\"\"\n",
    "\n",
    "    def __init__(self, head_size):\n",
    "        super().__init__()\n",
    "        self.key = nn.Linear(n_embd, head_size, bias=False)\n",
    "        self.query = nn.Linear(n_embd, head_size, bias=False)\n",
    "        self.value = nn.Linear(n_embd, head_size, bias=False)\n",
    "\n",
    "        self.dropout = nn.Dropout(dropout)\n",
    "\n",
    "    def forward(self, x):\n",
    "        # input of size (batch, time-step, channels)\n",
    "        # output of size (batch, time-step, head size)\n",
    "        B,T,C = x.shape\n",
    "        k = self.key(x)   # (B,T,hs)\n",
    "        q = self.query(x) # (B,T,hs)\n",
    "        # compute attention scores (\"affinities\")\n",
    "        wei = q @ k.transpose(-2,-1) * k.shape[-1]**-0.5 # (B, T, hs) @ (B, hs, T) -> (B, T, T)\n",
    "        wei = F.softmax(wei, dim=-1) # (B, T, T)\n",
    "        wei = self.dropout(wei)\n",
    "        # perform the weighted aggregation of the values\n",
    "        v = self.value(x) # (B,T,hs)\n",
    "        out = wei @ v # (B, T, T) @ (B, T, hs) -> (B, T, hs)\n",
    "        return out\n",
    "\n",
    "class MultiHeadAttention(nn.Module):\n",
    "    \"\"\" multiple heads of self-attention in parallel \"\"\"\n",
    "\n",
    "    def __init__(self, num_heads, head_size):\n",
    "        super().__init__()\n",
    "        self.heads = nn.ModuleList([Head(head_size) for _ in range(num_heads)])\n",
    "        self.proj = nn.Linear(head_size * num_heads, n_embd)\n",
    "        self.dropout = nn.Dropout(dropout)\n",
    "\n",
    "    def forward(self, x):\n",
    "        out = torch.cat([h(x) for h in self.heads], dim=-1)\n",
    "        out = self.proj(out)\n",
    "        out = self.dropout(out)\n",
    "        return out\n",
    "\n",
    "class FeedFoward(nn.Module):\n",
    "    \"\"\" a simple linear layer followed by a non-linearity \"\"\"\n",
    "    def __init__(self, n_embd):\n",
    "        super().__init__()\n",
    "        self.net = nn.Sequential(\n",
    "            nn.Linear(n_embd, 4 * n_embd),\n",
    "            nn.ReLU(),\n",
    "            nn.Linear(4 * n_embd, n_embd),\n",
    "            nn.Dropout(dropout),\n",
    "        )\n",
    "\n",
    "    def forward(self, x):\n",
    "        return self.net(x)\n",
    "\n",
    "class Block(nn.Module):\n",
    "    \"\"\" Transformer block: communication followed by computation \"\"\"\n",
    "    def __init__(self, n_embd, n_head):\n",
    "        # n_embd: embedding dimension, n_head: the number of heads we'd like\n",
    "        super().__init__()\n",
    "        \n",
    "        head_size = n_embd // n_head\n",
    "        self.sa = MultiHeadAttention(n_head, head_size)\n",
    "        self.ffwd = FeedFoward(n_embd)\n",
    "        self.ln1 = nn.LayerNorm(n_embd)\n",
    "        self.ln2 = nn.LayerNorm(n_embd)\n",
    "\n",
    "    def forward(self, x):\n",
    "        x = self.ln1(x)\n",
    "        x = x + self.sa(x)\n",
    "        x = self.ln2(x)\n",
    "        x = x + self.ffwd(x)\n",
    "\n",
    "        return x\n",
    "\n",
    "    \n",
    "class Encoder(nn.Module):\n",
    "    def __init__(self):\n",
    "        super().__init__()\n",
    "        # each token directly reads off the logits for the next token from a lookup table\n",
    "        self.token_embedding_table = nn.Embedding(vocab_size, n_embd)\n",
    "        self.position_embedding_table = nn.Embedding(block_size, n_embd)\n",
    "        self.blocks = nn.Sequential(*[Block(n_embd, n_head=n_head) for _ in range(n_layer)])\n",
    "        self.ln_f = nn.LayerNorm(n_embd) # final layer norm\n",
    "        self.lm_head = nn.Linear(n_embd, output_size)\n",
    "                \n",
    "        self.log_softmax = nn.LogSoftmax(dim=1)     \n",
    "        self.softmax = nn.Softmax(dim=-1)\n",
    "\n",
    "        # better init, not covered in the original GPT video, but important, will cover in followup video\n",
    "        self.apply(self._init_weights)\n",
    "\n",
    "    def _init_weights(self, module):\n",
    "        if isinstance(module, nn.Linear):\n",
    "            torch.nn.init.normal_(module.weight, mean=0.0, std=0.02)\n",
    "            if module.bias is not None:\n",
    "                torch.nn.init.zeros_(module.bias)\n",
    "        elif isinstance(module, nn.Embedding):\n",
    "            torch.nn.init.normal_(module.weight, mean=0.0, std=0.02)\n",
    "\n",
    "    def forward(self, idx):\n",
    "        B, T = idx.shape\n",
    "\n",
    "        # idx and targets are both (B,T) tensor of integers\n",
    "        tok_emb = self.token_embedding_table(idx) # (B,T,C)\n",
    "        pos_emb = self.position_embedding_table(torch.arange(T, device=DEVICE)) # (T,C)\n",
    "        x = tok_emb + pos_emb # (B,T,C)\n",
    "        x = self.blocks(x) # (B,T,C)\n",
    "        x = self.ln_f(x) # (B,T,C)\n",
    "        x = self.lm_head(x)[:,0,:] # (B,output_size)  \n",
    "        \n",
    "        x = self.log_softmax(x)\n",
    "        return x\n",
    "\n",
    "    def evaluate_batch(self, X, y, loss_criterion): # assumes self.eval()\n",
    "        \"\"\"\n",
    "        Calculate loss and accuracy (# correct and # total) for a batch of inputs.\n",
    "        Assumes self is in evaluation mode (self.eval()).\n",
    "        Params:\n",
    "            X: tensor of shape (batch_size, max_length)\n",
    "            y: tensor of shape (batch_size)\n",
    "        Returns:\n",
    "            loss: scalar\n",
    "            n_correct: int\n",
    "            n_total: int\n",
    "        \"\"\"\n",
    "        outputs = self(X)\n",
    "        predictions = outputs.topk(1)[1]\n",
    "        # calculate loss\n",
    "        loss = loss_criterion(outputs, y).item()    \n",
    "        # calculate no. of correct predictions              \n",
    "        n_correct = torch.sum(predictions == y.view(-1, 1)).item() \n",
    "\n",
    "        return loss, (n_correct, len(X))\n",
    "    \n",
    "    def evaluate(self, dataloader, loss_criterion):\n",
    "        \"\"\"\n",
    "        Calculate loss and accuracy for all inputs in a dataloader.\n",
    "        Params:\n",
    "            dataloader: DataLoader object for IMDBDataset\n",
    "            loss_criterion: loss function\n",
    "        Returns:\n",
    "            loss: float\n",
    "            acc: float\n",
    "        \"\"\"\n",
    "        # initialize variables\n",
    "        losses = []\n",
    "        n_correct, n_total = 0, 0\n",
    "        # set evaluation mode\n",
    "        self.eval()\n",
    "        # iterate over batches\n",
    "        with torch.no_grad():\n",
    "            for i, (input_tensor, lengths, category_tensor) in enumerate(dataloader): # iterate over batches\n",
    "                batch_loss, (batch_correct, batch_size) = self.evaluate_batch(input_tensor, category_tensor, loss_criterion)\n",
    "                losses.append(batch_loss)\n",
    "                n_correct += batch_correct\n",
    "                n_total += batch_size\n",
    "        acc = n_correct/n_total\n",
    "        return np.mean(losses), acc\n",
    "\n",
    "    def train_batch(self, input_tensor, category_tensor, loss_criterion, optimizer):\n",
    "        \"\"\"\n",
    "        Train the model on a single batch.\n",
    "        Params:\n",
    "            input_tensor: tensor of shape (batch_size, max_length)\n",
    "            category_tensor: tensor of shape (batch_size)\n",
    "            loss_criterion: loss function\n",
    "            optimizer: optimizer\n",
    "        \"\"\"\n",
    "        # reset gradients\n",
    "        self.zero_grad()\n",
    "        # get batch model output\n",
    "        output = self(input_tensor)\n",
    "        # calculate loss\n",
    "        loss = loss_criterion(output, category_tensor)\n",
    "        # backpropagate\n",
    "        loss.backward()\n",
    "        optimizer.step()\n",
    "        return loss.item()\n",
    "\n",
    "    def train_epoch(self, dataloader, loss_criterion, optimizer):\n",
    "        \"\"\"\n",
    "        Train the model for one epoch.\n",
    "        Params:\n",
    "            dataloader: DataLoader object for IMDBDataset\n",
    "            loss_criterion: loss function\n",
    "            optimizer: optimizer\n",
    "        \"\"\"\n",
    "        # set training mode\n",
    "        self.train() \n",
    "        # iterate over batches\n",
    "        for i, (input_tensor, lengths, category_tensor) in enumerate(dataloader):\n",
    "            batch_loss = self.train_batch(input_tensor, category_tensor, loss_criterion, optimizer)\n",
    "\n",
    "    def fit(self, \n",
    "            train_dataloader,\n",
    "            loss_criterion,\n",
    "            optimizer, \n",
    "            epochs=1,\n",
    "            track_train_stats=False, # bool\n",
    "            track_test_stats=False, # bool\n",
    "            test_dataloader=None, # DataLoader object for IMDBDataset\n",
    "            test_every=1, # int >= 1\n",
    "            verbose=False # bool\n",
    "            ):\n",
    "        \"\"\"\n",
    "        Train the model for a specified number of epochs.\n",
    "        Params:\n",
    "            train_dataloader: DataLoader object for IMDBDataset\n",
    "            loss_criterion: loss function\n",
    "            optimizer: optimizer\n",
    "            epochs: int\n",
    "        \"\"\"\n",
    "        # sanity checks\n",
    "        assert test_every >= 1, 'test_every must be >= 1'\n",
    "        assert not track_test_stats or test_dataloader is not None, 'Please set track_test_stats to False or specify test dataloader.'\n",
    "        # iterate over epochs\n",
    "        for epoch in range(epochs):\n",
    "            if verbose:\n",
    "                print('Epoch ' + str(epoch+1))\n",
    "            # run one training epoch\n",
    "            self.train_epoch(train_dataloader, loss_criterion, optimizer)\n",
    "            # optionally track training stats\n",
    "            if track_train_stats:\n",
    "                if epoch % test_every == 0:\n",
    "                    train_loss, train_accuracy = self.evaluate(train_dataloader, loss_criterion)\n",
    "                    if verbose:\n",
    "                        print('Train Loss: ' + str(round(train_loss, 3)) + '. Train Accuracy: ' + str(round(train_accuracy, 3)))\n",
    "            # optionally track test stats\n",
    "            if track_test_stats:\n",
    "                if epoch % test_every == 0:\n",
    "                    test_loss, test_accuracy = self.evaluate(test_dataloader, loss_criterion)\n",
    "                    if verbose:\n",
    "                        print('Test Loss:  ' + str(round(test_loss, 3)) + '. Test Accuracy:  ' + str(round(test_accuracy, 3)))"
   ]
  },
  {
   "cell_type": "code",
   "execution_count": 27,
   "id": "649df09a",
   "metadata": {},
   "outputs": [
    {
     "data": {
      "text/plain": [
       "torch.Size([34156, 101])"
      ]
     },
     "execution_count": 27,
     "metadata": {},
     "output_type": "execute_result"
    }
   ],
   "source": [
    "# prepending [CLS]\n",
    "X_train = torch.column_stack([torch.zeros(size=(X_train.shape[0], 1), device=DEVICE, dtype=torch.int32), X_train])\n",
    "X_test = torch.column_stack([torch.zeros(size=(X_test.shape[0], 1), device=DEVICE, dtype=torch.int32), X_test])\n",
    "X_train.shape"
   ]
  },
  {
   "cell_type": "code",
   "execution_count": 28,
   "id": "f085aede",
   "metadata": {},
   "outputs": [],
   "source": [
    "train_dataset = IMDB_Dataset(X_train, train_lengths, y_train) # lengths unused for Transformer\n",
    "test_dataset = IMDB_Dataset(X_test, test_lengths, y_test)\n",
    "\n",
    "torch.manual_seed(0)\n",
    "\n",
    "train_dataloader = DataLoader(train_dataset, batch_size=batch_size, shuffle=True)\n",
    "test_dataloader = DataLoader(test_dataset, batch_size=batch_size, shuffle=False)"
   ]
  },
  {
   "cell_type": "code",
   "execution_count": 29,
   "id": "0d6a46b8",
   "metadata": {},
   "outputs": [],
   "source": [
    "enc = Encoder().to(device=DEVICE)"
   ]
  },
  {
   "cell_type": "markdown",
   "id": "7492e0b9",
   "metadata": {},
   "source": [
    "## 4.B. Training<a name=\"transformer_training\"></a>"
   ]
  },
  {
   "cell_type": "code",
   "execution_count": 30,
   "id": "ee8d2f55",
   "metadata": {},
   "outputs": [],
   "source": [
    "optimizer = optim.Adam(enc.parameters(), lr=3e-4)"
   ]
  },
  {
   "cell_type": "code",
   "execution_count": 31,
   "id": "1f848776",
   "metadata": {},
   "outputs": [
    {
     "name": "stdout",
     "output_type": "stream",
     "text": [
      "Epoch 1\n",
      "Train Loss: 0.441. Train Accuracy: 0.824\n",
      "Test Loss:  0.547. Test Accuracy:  0.776\n",
      "Epoch 2\n",
      "Train Loss: 0.407. Train Accuracy: 0.845\n",
      "Test Loss:  0.589. Test Accuracy:  0.777\n",
      "Epoch 3\n",
      "Train Loss: 0.384. Train Accuracy: 0.857\n",
      "Test Loss:  0.579. Test Accuracy:  0.779\n",
      "Epoch 4\n",
      "Train Loss: 0.351. Train Accuracy: 0.875\n",
      "Test Loss:  0.561. Test Accuracy:  0.781\n",
      "Epoch 5\n",
      "Train Loss: 0.326. Train Accuracy: 0.885\n",
      "Test Loss:  0.647. Test Accuracy:  0.774\n",
      "Epoch 6\n",
      "Train Loss: 0.281. Train Accuracy: 0.891\n",
      "Test Loss:  0.646. Test Accuracy:  0.761\n",
      "Epoch 7\n",
      "Train Loss: 0.268. Train Accuracy: 0.886\n",
      "Test Loss:  0.711. Test Accuracy:  0.749\n",
      "Epoch 8\n",
      "Train Loss: 0.258. Train Accuracy: 0.886\n",
      "Test Loss:  0.716. Test Accuracy:  0.745\n",
      "Epoch 9\n",
      "Train Loss: 0.201. Train Accuracy: 0.924\n",
      "Test Loss:  0.828. Test Accuracy:  0.758\n",
      "Epoch 10\n",
      "Train Loss: 0.187. Train Accuracy: 0.925\n",
      "Test Loss:  0.8. Test Accuracy:  0.748\n"
     ]
    }
   ],
   "source": [
    "enc.fit(train_dataloader,\n",
    "        loss_criterion,\n",
    "        optimizer, \n",
    "        epochs=10,\n",
    "        track_train_stats=True,\n",
    "        track_test_stats=True,\n",
    "        test_dataloader=test_dataloader,\n",
    "        verbose=True\n",
    "       )"
   ]
  },
  {
   "cell_type": "markdown",
   "id": "b252551c",
   "metadata": {},
   "source": [
    "The Transformer's test set performance peaks after training epoch 4, with a test loss of 0.561 and accuracy of 78.1%. Perhaps unsurprisingly, this is slightly better than the LSTM's peak test set performance (after epoch 7, the LSTM had a test loss of 0.623 and accuracy of 76%). "
   ]
  },
  {
   "cell_type": "markdown",
   "id": "da8fa8f4-da28-47b5-9cea-558a6851c7e6",
   "metadata": {},
   "source": [
    "## 5. LSTM Visualization<a name=\"visualization\"></a>\n",
    "\n",
    "Garcia *et. al* created a dashboard for visualizing a recurrent network's operation across a sequence (shown below). In this section, we recreate the important components of this dashboard (marked B, C, D, and E) for the multi-class genre classification problem."
   ]
  },
  {
   "cell_type": "markdown",
   "id": "849b0b05-3dd5-4349-989b-f675d8b9494d",
   "metadata": {},
   "source": [
    "![title](img/lstm_visualization.png)"
   ]
  },
  {
   "cell_type": "code",
   "execution_count": 32,
   "id": "f5601b00-abbb-4d1a-9d9f-a9ee1712eeb5",
   "metadata": {},
   "outputs": [
    {
     "data": {
      "text/plain": [
       "<All keys matched successfully>"
      ]
     },
     "execution_count": 32,
     "metadata": {},
     "output_type": "execute_result"
    }
   ],
   "source": [
    "lstm = LSTM(vocab, embedding_size, hidden_size, output_size)\n",
    "lstm.load_state_dict(torch.load('saved_models/imdb_lstm_{}_{}_{}.pt'.format(len(GENRES), MIN_FREQ, MAX_LENGTH)))"
   ]
  },
  {
   "cell_type": "markdown",
   "id": "32205a1a-1f20-48e5-b08b-dcd9b551fc83",
   "metadata": {},
   "source": [
    "For this notebook, I stored the model hidden states, outputs, predictions, and other information in a local database. This allows me to easily access information about individual movies using SQL queries without having to load massive amounts of information into memory. For the app, I created a database in Google Cloud."
   ]
  },
  {
   "cell_type": "code",
   "execution_count": 33,
   "id": "67880499-c9d4-4d90-b218-016d9b5e4d9f",
   "metadata": {},
   "outputs": [],
   "source": [
    "from sklearn.decomposition import IncrementalPCA\n",
    "import seaborn as sns\n",
    "import matplotlib.pyplot as plt\n",
    "import html\n",
    "from IPython.display import display, HTML\n",
    "import pickle\n",
    "import sqlite3"
   ]
  },
  {
   "cell_type": "markdown",
   "id": "a335ac10-cb46-4aa0-a443-f75188e74841",
   "metadata": {},
   "source": [
    "### 5.1 Sequence Color-Coding\n",
    "\n",
    "Component (B) displays the description text with each word (or other unit) color-coded using the model's output at that step of the sequence. The hue is determined by the predicted class, and the tint increases (becomes more white) as the model's confidence in that prediction decreases.\n",
    "\n",
    "We define a map assigning each class a hue represented by an rgb triple."
   ]
  },
  {
   "cell_type": "code",
   "execution_count": 34,
   "id": "6845645b-5d68-4d15-9733-2ac02e98c34e",
   "metadata": {},
   "outputs": [],
   "source": [
    "# https://www.learnui.design/tools/data-color-picker.html#palette . For hex colors.\n",
    "# https://www.rgbtohex.net/hex-to-rgb/ . Hex to RGB\n",
    "color_map = {0: 'rgb(0,63,92,', 1: 'rgb(188,80,144,', 2: 'rgb(255,166,0,'}\n",
    "color_float_map = {0: [0/255,63/255,92/255], 1: [188/255,80/255,144/255], 2: [255/255,166/255,0/255]}"
   ]
  },
  {
   "cell_type": "markdown",
   "id": "f73d31fe-fcc1-462c-a033-df13ce5325ca",
   "metadata": {},
   "source": [
    "Here are the colors we'll use for each class:"
   ]
  },
  {
   "cell_type": "code",
   "execution_count": 35,
   "id": "a0e0889c-f67d-400b-b12b-1c7580ae2d2d",
   "metadata": {},
   "outputs": [
    {
     "data": {
      "text/html": [
       "<span style=\"background-color:rgb(0,63,92,0.75);\">drama</span>"
      ],
      "text/plain": [
       "<IPython.core.display.HTML object>"
      ]
     },
     "metadata": {},
     "output_type": "display_data"
    },
    {
     "data": {
      "text/html": [
       "<span style=\"background-color:rgb(188,80,144,0.75);\">documentary</span>"
      ],
      "text/plain": [
       "<IPython.core.display.HTML object>"
      ]
     },
     "metadata": {},
     "output_type": "display_data"
    },
    {
     "data": {
      "text/html": [
       "<span style=\"background-color:rgb(255,166,0,0.75);\">comedy</span>"
      ],
      "text/plain": [
       "<IPython.core.display.HTML object>"
      ]
     },
     "metadata": {},
     "output_type": "display_data"
    }
   ],
   "source": [
    "def html_escape(text): # https://adataanalyst.com/machine-learning/highlight-text-using-weights/\n",
    "    return html.escape(text)\n",
    "    \n",
    "for i, genre in enumerate(GENRES):\n",
    "    highlighted_text = '<span style=\"background-color:' + color_map[i] + str(0.75) + ');\">' + html_escape(genre) + '</span>'\n",
    "    display(HTML(highlighted_text))"
   ]
  },
  {
   "cell_type": "code",
   "execution_count": 36,
   "id": "664cd34f-dcfd-43ea-b17f-e815d9de8d9a",
   "metadata": {},
   "outputs": [],
   "source": [
    "def display_description_with_classes(movie_index, max_alpha=0.75):\n",
    "\n",
    "    conn = sqlite3.connect('data/imdb_app.db')\n",
    "    cursor = conn.cursor()\n",
    "\n",
    "    res_desc = cursor.execute('''\n",
    "        SELECT * FROM Descriptions\n",
    "        WHERE movie_id = {i}\n",
    "        '''.format(i=movie_index)\n",
    "        )\n",
    "    movie_desc = res_desc.fetchone()\n",
    "    text = movie_desc[2].split(' ')\n",
    "    actual_genre = movie_desc[3]\n",
    "    predicted_genre = movie_desc[4]\n",
    "    confidence = np.frombuffer(movie_desc[5], dtype=np.float32).item()\n",
    "\n",
    "    caption = ['Actual: ']\n",
    "    caption.append('<span style=\"background-color:' + color_map[GENRES.index(actual_genre)\n",
    "                   ] + str(max_alpha) + ');\">' + html_escape(actual_genre) + '</span>')\n",
    "    caption.append('. Predicted: ')\n",
    "    caption.append('<span style=\"background-color:' + color_map[GENRES.index(predicted_genre)\n",
    "                   ] + str(confidence*max_alpha) + ');\">' + html_escape(predicted_genre) + '</span>')\n",
    "    \n",
    "    caption = ' '.join(caption)\n",
    "    display(HTML(caption))\n",
    "\n",
    "    res_ho = cursor.execute('''\n",
    "        SELECT * FROM Hiddens_Outputs\n",
    "        WHERE movie_id = {i}\n",
    "        '''.format(i=movie_index)\n",
    "        )\n",
    "    movie_ho = res_ho.fetchall()\n",
    "\n",
    "    predictions = [np.frombuffer(layer[6], dtype=np.int64).item() for layer in movie_ho]\n",
    "    confidences = [np.frombuffer(layer[7], dtype=np.float32).item() for layer in movie_ho]\n",
    "    \n",
    "    highlighted_text = []\n",
    "    for i, word in enumerate(text):\n",
    "        confidence = confidences[i]\n",
    "        pred = predictions[i]\n",
    "        \n",
    "        if confidence is not None:\n",
    "            highlighted_text.append('<span style=\"background-color:' + color_map[pred\n",
    "                ] + str(confidence*max_alpha) + ');\">' + html_escape(word) + '</span>')\n",
    "        else:\n",
    "            highlighted_text.append(word)\n",
    "    highlighted_text = ' '.join(highlighted_text)\n",
    "    display(HTML(highlighted_text))\n",
    "\n",
    "    conn.close()"
   ]
  },
  {
   "cell_type": "code",
   "execution_count": 37,
   "id": "24ccf505-aecb-416e-b3e0-321596188d0b",
   "metadata": {},
   "outputs": [
    {
     "data": {
      "text/html": [
       "Actual:  <span style=\"background-color:rgb(0,63,92,0.75);\">drama</span> . Predicted:  <span style=\"background-color:rgb(0,63,92,0.49784325063228607);\">drama</span>"
      ],
      "text/plain": [
       "<IPython.core.display.HTML object>"
      ]
     },
     "metadata": {},
     "output_type": "display_data"
    },
    {
     "data": {
      "text/html": [
       "<span style=\"background-color:rgb(188,80,144,0.2878824770450592);\">Listening</span> <span style=\"background-color:rgb(188,80,144,0.35425159335136414);\">in</span> <span style=\"background-color:rgb(188,80,144,0.2984592318534851);\">to</span> <span style=\"background-color:rgb(188,80,144,0.3118779882788658);\">a</span> <span style=\"background-color:rgb(0,63,92,0.3300831690430641);\">conversation</span> <span style=\"background-color:rgb(188,80,144,0.34118398278951645);\">between</span> <span style=\"background-color:rgb(0,63,92,0.32852979004383087);\">his</span> <span style=\"background-color:rgb(0,63,92,0.39240342378616333);\">doctor</span> <span style=\"background-color:rgb(0,63,92,0.4219515323638916);\">and</span> <span style=\"background-color:rgb(0,63,92,0.32647421211004257);\">parents</span> <span style=\"background-color:rgb(188,80,144,0.3603995516896248);\">,</span> <span style=\"background-color:rgb(188,80,144,0.40035291016101837);\">10</span> <span style=\"background-color:rgb(0,63,92,0.4118076413869858);\">-</span> <span style=\"background-color:rgb(188,80,144,0.3923039138317108);\">year</span> <span style=\"background-color:rgb(188,80,144,0.40522080659866333);\">-</span> <span style=\"background-color:rgb(188,80,144,0.5155574083328247);\">old</span> <span style=\"background-color:rgb(188,80,144,0.5497632622718811);\">Oscar</span> <span style=\"background-color:rgb(188,80,144,0.49782291054725647);\">learns</span> <span style=\"background-color:rgb(188,80,144,0.5770068615674973);\">what</span> <span style=\"background-color:rgb(188,80,144,0.6216703802347183);\">nobody</span> <span style=\"background-color:rgb(188,80,144,0.6409849673509598);\">has</span> <span style=\"background-color:rgb(188,80,144,0.6060540229082108);\">the</span> <span style=\"background-color:rgb(188,80,144,0.6642451286315918);\">courage</span> <span style=\"background-color:rgb(188,80,144,0.6560949683189392);\">to</span> <span style=\"background-color:rgb(188,80,144,0.6478982269763947);\">tell</span> <span style=\"background-color:rgb(188,80,144,0.645937129855156);\">him</span> <span style=\"background-color:rgb(188,80,144,0.6273728460073471);\">.</span> <span style=\"background-color:rgb(188,80,144,0.5908203721046448);\">He</span> <span style=\"background-color:rgb(188,80,144,0.5197741985321045);\">only</span> <span style=\"background-color:rgb(188,80,144,0.5401229113340378);\">has</span> <span style=\"background-color:rgb(188,80,144,0.506160780787468);\">a</span> <span style=\"background-color:rgb(188,80,144,0.49815595149993896);\">few</span> <span style=\"background-color:rgb(188,80,144,0.4674151539802551);\">weeks</span> <span style=\"background-color:rgb(188,80,144,0.48470480740070343);\">to</span> <span style=\"background-color:rgb(188,80,144,0.5621886402368546);\">live</span> <span style=\"background-color:rgb(188,80,144,0.5291748940944672);\">.</span> <span style=\"background-color:rgb(188,80,144,0.4824005216360092);\">Furious</span> <span style=\"background-color:rgb(188,80,144,0.5137540698051453);\">,</span> <span style=\"background-color:rgb(188,80,144,0.48443086445331573);\">he</span> <span style=\"background-color:rgb(188,80,144,0.4674263745546341);\">refuses</span> <span style=\"background-color:rgb(188,80,144,0.4547388553619385);\">to</span> <span style=\"background-color:rgb(188,80,144,0.5553198605775833);\">speak</span> <span style=\"background-color:rgb(188,80,144,0.5149204283952713);\">to</span> <span style=\"background-color:rgb(188,80,144,0.6064809858798981);\">anyone</span> <span style=\"background-color:rgb(188,80,144,0.5812060385942459);\">except</span> <span style=\"background-color:rgb(188,80,144,0.5481013208627701);\">straight</span> <span style=\"background-color:rgb(188,80,144,0.4593566805124283);\">-</span> <span style=\"background-color:rgb(188,80,144,0.47267746925354004);\">talking</span> <span style=\"background-color:rgb(188,80,144,0.4417450726032257);\">Rose</span> <span style=\"background-color:rgb(188,80,144,0.46041959524154663);\">,</span> <span style=\"background-color:rgb(188,80,144,0.48211634159088135);\">the</span> <span style=\"background-color:rgb(188,80,144,0.3817569315433502);\">lady</span> <span style=\"background-color:rgb(188,80,144,0.3844565749168396);\">in</span> <span style=\"background-color:rgb(188,80,144,0.3817046284675598);\">pink</span> <span style=\"background-color:rgb(0,63,92,0.3083554208278656);\">he</span> <span style=\"background-color:rgb(0,63,92,0.3002556189894676);\">meets</span> <span style=\"background-color:rgb(0,63,92,0.39732375741004944);\">on</span> <span style=\"background-color:rgb(0,63,92,0.3930884599685669);\">the</span> <span style=\"background-color:rgb(0,63,92,0.49747520685195923);\">hospital</span> <span style=\"background-color:rgb(0,63,92,0.4600917398929596);\">stairs</span> <span style=\"background-color:rgb(0,63,92,0.4750136286020279);\">.</span> <span style=\"background-color:rgb(0,63,92,0.513141855597496);\">As</span> <span style=\"background-color:rgb(0,63,92,0.4990891367197037);\">Christmas</span> <span style=\"background-color:rgb(0,63,92,0.4993925392627716);\">approaches</span> <span style=\"background-color:rgb(0,63,92,0.41570037603378296);\">,</span> <span style=\"background-color:rgb(0,63,92,0.5016987025737762);\">Rose</span> <span style=\"background-color:rgb(0,63,92,0.4698600769042969);\">uses</span> <span style=\"background-color:rgb(0,63,92,0.4367102086544037);\">her</span> <span style=\"background-color:rgb(0,63,92,0.47635991871356964);\">fantastical</span> <span style=\"background-color:rgb(0,63,92,0.423591747879982);\">experiences</span> <span style=\"background-color:rgb(0,63,92,0.4604608565568924);\">as</span> <span style=\"background-color:rgb(0,63,92,0.44055287539958954);\">a</span> <span style=\"background-color:rgb(0,63,92,0.3491291105747223);\">professional</span> <span style=\"background-color:rgb(0,63,92,0.34049879014492035);\">wrestler</span> <span style=\"background-color:rgb(255,166,0,0.3252905085682869);\">,</span> <span style=\"background-color:rgb(0,63,92,0.3650878965854645);\">her</span> <span style=\"background-color:rgb(0,63,92,0.41093873977661133);\">imagination</span> <span style=\"background-color:rgb(0,63,92,0.38605785369873047);\">,</span> <span style=\"background-color:rgb(0,63,92,0.3362436443567276);\">wit</span> <span style=\"background-color:rgb(0,63,92,0.34478650242090225);\">and</span> <span style=\"background-color:rgb(0,63,92,0.4307911992073059);\">charm</span> <span style=\"background-color:rgb(0,63,92,0.40872323513031006);\">to</span> <span style=\"background-color:rgb(0,63,92,0.4058111608028412);\">allow</span> <span style=\"background-color:rgb(0,63,92,0.3395920693874359);\">Oscar</span> <span style=\"background-color:rgb(0,63,92,0.319317989051342);\">to</span> <span style=\"background-color:rgb(188,80,144,0.31795504689216614);\">live</span> <span style=\"background-color:rgb(0,63,92,0.35607433319091797);\">life</span> <span style=\"background-color:rgb(0,63,92,0.445945143699646);\">and</span> <span style=\"background-color:rgb(0,63,92,0.5153296887874603);\">love</span> <span style=\"background-color:rgb(0,63,92,0.44294406473636627);\">to</span> <span style=\"background-color:rgb(0,63,92,0.4162432998418808);\">the</span> <span style=\"background-color:rgb(0,63,92,0.41092103719711304);\">full</span> <span style=\"background-color:rgb(0,63,92,0.37495847046375275);\">,</span> <span style=\"background-color:rgb(0,63,92,0.35408399999141693);\">in</span> <span style=\"background-color:rgb(0,63,92,0.3695113733410835);\">the</span> <span style=\"background-color:rgb(0,63,92,0.4202203005552292);\">company</span> <span style=\"background-color:rgb(0,63,92,0.45930545032024384);\">of</span> <span style=\"background-color:rgb(0,63,92,0.37858209013938904);\">his</span> <span style=\"background-color:rgb(0,63,92,0.465322807431221);\">friends</span> <span style=\"background-color:rgb(0,63,92,0.49784325063228607);\">Pop</span>"
      ],
      "text/plain": [
       "<IPython.core.display.HTML object>"
      ]
     },
     "metadata": {},
     "output_type": "display_data"
    },
    {
     "data": {
      "text/html": [
       "Actual:  <span style=\"background-color:rgb(0,63,92,0.75);\">drama</span> . Predicted:  <span style=\"background-color:rgb(0,63,92,0.6880565732717514);\">drama</span>"
      ],
      "text/plain": [
       "<IPython.core.display.HTML object>"
      ]
     },
     "metadata": {},
     "output_type": "display_data"
    },
    {
     "data": {
      "text/html": [
       "<span style=\"background-color:rgb(0,63,92,0.2861565425992012);\">To</span> <span style=\"background-color:rgb(255,166,0,0.40695320069789886);\">help</span> <span style=\"background-color:rgb(255,166,0,0.3530311658978462);\">their</span> <span style=\"background-color:rgb(255,166,0,0.39764267206192017);\">unemployed</span> <span style=\"background-color:rgb(0,63,92,0.3566969186067581);\">father</span> <span style=\"background-color:rgb(255,166,0,0.366813026368618);\">make</span> <span style=\"background-color:rgb(255,166,0,0.401309072971344);\">ends</span> <span style=\"background-color:rgb(255,166,0,0.4557380676269531);\">meet</span> <span style=\"background-color:rgb(255,166,0,0.45728015899658203);\">,</span> <span style=\"background-color:rgb(255,166,0,0.4353107661008835);\">Edith</span> <span style=\"background-color:rgb(255,166,0,0.4131040871143341);\">and</span> <span style=\"background-color:rgb(255,166,0,0.42275382578372955);\">her</span> <span style=\"background-color:rgb(255,166,0,0.39198093116283417);\">twin</span> <span style=\"background-color:rgb(255,166,0,0.4398255944252014);\">sister</span> <span style=\"background-color:rgb(255,166,0,0.45074106752872467);\">Grace</span> <span style=\"background-color:rgb(255,166,0,0.4641430824995041);\">work</span> <span style=\"background-color:rgb(255,166,0,0.4559084326028824);\">as</span> <span style=\"background-color:rgb(255,166,0,0.4874074459075928);\">seamstresses</span> <span style=\"background-color:rgb(255,166,0,0.5762090384960175);\">.</span> <span style=\"background-color:rgb(255,166,0,0.49785053730010986);\">An</span> <span style=\"background-color:rgb(255,166,0,0.4875870645046234);\">invalid</span> <span style=\"background-color:rgb(255,166,0,0.5701241344213486);\">,</span> <span style=\"background-color:rgb(255,166,0,0.5651084035634995);\">Grace</span> <span style=\"background-color:rgb(255,166,0,0.4646069258451462);\">falls</span> <span style=\"background-color:rgb(255,166,0,0.45835281908512115);\">prey</span> <span style=\"background-color:rgb(255,166,0,0.5008559077978134);\">to</span> <span style=\"background-color:rgb(255,166,0,0.41895706951618195);\">the</span> <span style=\"background-color:rgb(255,166,0,0.4745672196149826);\">temptations</span> <span style=\"background-color:rgb(255,166,0,0.38971151411533356);\">of</span> <span style=\"background-color:rgb(255,166,0,0.4384818971157074);\">Chinatown</span> <span style=\"background-color:rgb(255,166,0,0.4774978905916214);\">opium</span> <span style=\"background-color:rgb(255,166,0,0.4991683065891266);\">and</span> <span style=\"background-color:rgb(255,166,0,0.4792233556509018);\">becomes</span> <span style=\"background-color:rgb(255,166,0,0.4123537391424179);\">an</span> <span style=\"background-color:rgb(255,166,0,0.4996820390224457);\">addict</span> <span style=\"background-color:rgb(255,166,0,0.5139044970273972);\">,</span> <span style=\"background-color:rgb(255,166,0,0.4318445920944214);\">a</span> <span style=\"background-color:rgb(0,63,92,0.4696676731109619);\">condition</span> <span style=\"background-color:rgb(0,63,92,0.45797891914844513);\">worsened</span> <span style=\"background-color:rgb(0,63,92,0.5473402887582779);\">by</span> <span style=\"background-color:rgb(0,63,92,0.48754870891571045);\">a</span> <span style=\"background-color:rgb(0,63,92,0.464558869600296);\">misguided</span> <span style=\"background-color:rgb(0,63,92,0.5436915457248688);\">physician</span> <span style=\"background-color:rgb(0,63,92,0.5133169144392014);\">who</span> <span style=\"background-color:rgb(0,63,92,0.4887930750846863);\">prescribes</span> <span style=\"background-color:rgb(0,63,92,0.4540400505065918);\">morphine</span> <span style=\"background-color:rgb(0,63,92,0.42138612270355225);\">to</span> <span style=\"background-color:rgb(0,63,92,0.45825447142124176);\">ease</span> <span style=\"background-color:rgb(0,63,92,0.420149490237236);\">her</span> <span style=\"background-color:rgb(0,63,92,0.4708200842142105);\">pain</span> <span style=\"background-color:rgb(0,63,92,0.5208504348993301);\">.</span> <span style=\"background-color:rgb(0,63,92,0.5926536172628403);\">When</span> <span style=\"background-color:rgb(0,63,92,0.6360879242420197);\">their</span> <span style=\"background-color:rgb(0,63,92,0.6797138750553131);\">father</span> <span style=\"background-color:rgb(0,63,92,0.6934229135513306);\">strikes</span> <span style=\"background-color:rgb(0,63,92,0.6819727867841721);\">oil</span> <span style=\"background-color:rgb(0,63,92,0.6462717354297638);\">,</span> <span style=\"background-color:rgb(0,63,92,0.6366581618785858);\">the</span> <span style=\"background-color:rgb(0,63,92,0.6619609147310257);\">family</span> <span style=\"background-color:rgb(0,63,92,0.6797318011522293);\">enjoys</span> <span style=\"background-color:rgb(0,63,92,0.6212114989757538);\">a</span> <span style=\"background-color:rgb(0,63,92,0.6267854422330856);\">new</span> <span style=\"background-color:rgb(0,63,92,0.5978189259767532);\">prosperity</span> <span style=\"background-color:rgb(0,63,92,0.6181915104389191);\">and</span> <span style=\"background-color:rgb(0,63,92,0.6100449711084366);\">the</span> <span style=\"background-color:rgb(0,63,92,0.6293258517980576);\">sisters</span> <span style=\"background-color:rgb(0,63,92,0.5777599811553955);\">meet</span> <span style=\"background-color:rgb(0,63,92,0.6255638748407364);\">the</span> <span style=\"background-color:rgb(0,63,92,0.6102336198091507);\">eligible</span> <span style=\"background-color:rgb(0,63,92,0.6242595613002777);\">Jack</span> <span style=\"background-color:rgb(0,63,92,0.6217887103557587);\">Herron</span> <span style=\"background-color:rgb(0,63,92,0.5593937784433365);\">,</span> <span style=\"background-color:rgb(0,63,92,0.5804990082979202);\">a</span> <span style=\"background-color:rgb(0,63,92,0.6348959058523178);\">fellow</span> <span style=\"background-color:rgb(0,63,92,0.6580641567707062);\">oil</span> <span style=\"background-color:rgb(0,63,92,0.6326979249715805);\">prospector</span> <span style=\"background-color:rgb(0,63,92,0.6432425379753113);\">.</span> <span style=\"background-color:rgb(0,63,92,0.6472662091255188);\">To</span> <span style=\"background-color:rgb(0,63,92,0.6606487780809402);\">Grace</span> <span style=\"background-color:rgb(0,63,92,0.6721281856298447);\">&#x27;s</span> <span style=\"background-color:rgb(0,63,92,0.6876752972602844);\">shock</span> <span style=\"background-color:rgb(0,63,92,0.6705667823553085);\">,</span> <span style=\"background-color:rgb(0,63,92,0.6871706396341324);\">Jack</span> <span style=\"background-color:rgb(0,63,92,0.6845940202474594);\">falls</span> <span style=\"background-color:rgb(0,63,92,0.6613957285881042);\">in</span> <span style=\"background-color:rgb(0,63,92,0.6695800870656967);\">love</span> <span style=\"background-color:rgb(0,63,92,0.6641751229763031);\">with</span> <span style=\"background-color:rgb(0,63,92,0.6461946666240692);\">Edith</span> <span style=\"background-color:rgb(0,63,92,0.6529450714588165);\">and</span> <span style=\"background-color:rgb(0,63,92,0.6537758857011795);\">in</span> <span style=\"background-color:rgb(0,63,92,0.6291357278823853);\">her</span> <span style=\"background-color:rgb(0,63,92,0.6803503185510635);\">jealousy</span> <span style=\"background-color:rgb(0,63,92,0.6827507615089417);\">,</span> <span style=\"background-color:rgb(0,63,92,0.6971519440412521);\">Grace</span> <span style=\"background-color:rgb(0,63,92,0.6999165415763855);\">tells</span> <span style=\"background-color:rgb(0,63,92,0.6891905665397644);\">Jack</span> <span style=\"background-color:rgb(0,63,92,0.7024743854999542);\">that</span> <span style=\"background-color:rgb(0,63,92,0.6979411840438843);\">Edith</span> <span style=\"background-color:rgb(0,63,92,0.6815778315067291);\">,</span> <span style=\"background-color:rgb(0,63,92,0.6880565732717514);\">not</span>"
      ],
      "text/plain": [
       "<IPython.core.display.HTML object>"
      ]
     },
     "metadata": {},
     "output_type": "display_data"
    },
    {
     "data": {
      "text/html": [
       "Actual:  <span style=\"background-color:rgb(0,63,92,0.75);\">drama</span> . Predicted:  <span style=\"background-color:rgb(188,80,144,0.6650579273700714);\">documentary</span>"
      ],
      "text/plain": [
       "<IPython.core.display.HTML object>"
      ]
     },
     "metadata": {},
     "output_type": "display_data"
    },
    {
     "data": {
      "text/html": [
       "<span style=\"background-color:rgb(188,80,144,0.285321369767189);\">The</span> <span style=\"background-color:rgb(188,80,144,0.382192924618721);\">film</span> <span style=\"background-color:rgb(188,80,144,0.4014806002378464);\">&#x27;s</span> <span style=\"background-color:rgb(188,80,144,0.26042307168245316);\">title</span> <span style=\"background-color:rgb(188,80,144,0.28145304322242737);\">refers</span> <span style=\"background-color:rgb(255,166,0,0.31843073666095734);\">not</span> <span style=\"background-color:rgb(255,166,0,0.47072701156139374);\">only</span> <span style=\"background-color:rgb(255,166,0,0.4359433650970459);\">to</span> <span style=\"background-color:rgb(255,166,0,0.30818773806095123);\">the</span> <span style=\"background-color:rgb(255,166,0,0.3231944292783737);\">un</span> <span style=\"background-color:rgb(0,63,92,0.4149298667907715);\">-</span> <span style=\"background-color:rgb(0,63,92,0.3448437452316284);\">recovered</span> <span style=\"background-color:rgb(0,63,92,0.3107462748885155);\">bodies</span> <span style=\"background-color:rgb(188,80,144,0.30303364992141724);\">at</span> <span style=\"background-color:rgb(188,80,144,0.3069513738155365);\">ground</span> <span style=\"background-color:rgb(188,80,144,0.365667387843132);\">zero</span> <span style=\"background-color:rgb(188,80,144,0.33353376388549805);\">,</span> <span style=\"background-color:rgb(188,80,144,0.37119850516319275);\">but</span> <span style=\"background-color:rgb(188,80,144,0.33406517654657364);\">also</span> <span style=\"background-color:rgb(188,80,144,0.30441516637802124);\">to</span> <span style=\"background-color:rgb(188,80,144,0.3844021260738373);\">the</span> <span style=\"background-color:rgb(188,80,144,0.4276662915945053);\">state</span> <span style=\"background-color:rgb(188,80,144,0.47589245438575745);\">of</span> <span style=\"background-color:rgb(188,80,144,0.43962764739990234);\">the</span> <span style=\"background-color:rgb(188,80,144,0.48424114286899567);\">nation</span> <span style=\"background-color:rgb(188,80,144,0.5488231927156448);\">at</span> <span style=\"background-color:rgb(188,80,144,0.528353288769722);\">large</span> <span style=\"background-color:rgb(188,80,144,0.49797990918159485);\">.</span> <span style=\"background-color:rgb(188,80,144,0.3193638101220131);\">Set</span> <span style=\"background-color:rgb(0,63,92,0.364429771900177);\">in</span> <span style=\"background-color:rgb(0,63,92,0.3964957594871521);\">the</span> <span style=\"background-color:rgb(0,63,92,0.41363391280174255);\">hallucinatory</span> <span style=\"background-color:rgb(0,63,92,0.5049282163381577);\">period</span> <span style=\"background-color:rgb(0,63,92,0.4988633394241333);\">of</span> <span style=\"background-color:rgb(0,63,92,0.5036083906888962);\">time</span> <span style=\"background-color:rgb(0,63,92,0.48360876739025116);\">between</span> <span style=\"background-color:rgb(0,63,92,0.48770517110824585);\">September</span> <span style=\"background-color:rgb(0,63,92,0.4558470547199249);\">11</span> <span style=\"background-color:rgb(0,63,92,0.48960748314857483);\">and</span> <span style=\"background-color:rgb(0,63,92,0.4849196523427963);\">Halloween</span> <span style=\"background-color:rgb(0,63,92,0.4939385801553726);\">of</span> <span style=\"background-color:rgb(0,63,92,0.41974371671676636);\">2001</span> <span style=\"background-color:rgb(0,63,92,0.3730025812983513);\">,</span> <span style=\"background-color:rgb(0,63,92,0.35081449896097183);\">The</span> <span style=\"background-color:rgb(0,63,92,0.3398892804980278);\">Unrecovered</span> <span style=\"background-color:rgb(188,80,144,0.32756638526916504);\">examines</span> <span style=\"background-color:rgb(188,80,144,0.3717842996120453);\">the</span> <span style=\"background-color:rgb(188,80,144,0.3910684436559677);\">effect</span> <span style=\"background-color:rgb(188,80,144,0.4582922011613846);\">of</span> <span style=\"background-color:rgb(188,80,144,0.5394683182239532);\">terror</span> <span style=\"background-color:rgb(188,80,144,0.5504166930913925);\">on</span> <span style=\"background-color:rgb(188,80,144,0.5561559498310089);\">the</span> <span style=\"background-color:rgb(188,80,144,0.6524752378463745);\">average</span> <span style=\"background-color:rgb(188,80,144,0.6190802156925201);\">mind</span> <span style=\"background-color:rgb(188,80,144,0.6347871869802475);\">,</span> <span style=\"background-color:rgb(188,80,144,0.6116099506616592);\">the</span> <span style=\"background-color:rgb(188,80,144,0.6689542829990387);\">way</span> <span style=\"background-color:rgb(188,80,144,0.5874587595462799);\">a</span> <span style=\"background-color:rgb(188,80,144,0.6340430080890656);\">state</span> <span style=\"background-color:rgb(188,80,144,0.6411724537611008);\">of</span> <span style=\"background-color:rgb(188,80,144,0.6379445940256119);\">heightened</span> <span style=\"background-color:rgb(188,80,144,0.658460944890976);\">anxiety</span> <span style=\"background-color:rgb(188,80,144,0.6440872102975845);\">and/or</span> <span style=\"background-color:rgb(188,80,144,0.6253586858510971);\">alertness</span> <span style=\"background-color:rgb(188,80,144,0.5691521465778351);\">can</span> <span style=\"background-color:rgb(188,80,144,0.5786764472723007);\">cause</span> <span style=\"background-color:rgb(188,80,144,0.5244095474481583);\">the</span> <span style=\"background-color:rgb(188,80,144,0.6380365043878555);\">average</span> <span style=\"background-color:rgb(188,80,144,0.6569741070270538);\">person</span> <span style=\"background-color:rgb(188,80,144,0.6019201129674911);\">to</span> <span style=\"background-color:rgb(188,80,144,0.6516774147748947);\">make</span> <span style=\"background-color:rgb(188,80,144,0.6047293692827225);\">the</span> <span style=\"background-color:rgb(188,80,144,0.5979562103748322);\">sort</span> <span style=\"background-color:rgb(188,80,144,0.5462155938148499);\">of</span> <span style=\"background-color:rgb(188,80,144,0.5416870415210724);\">imaginative</span> <span style=\"background-color:rgb(188,80,144,0.5085095912218094);\">connections</span> <span style=\"background-color:rgb(188,80,144,0.5333716571331024);\">that</span> <span style=\"background-color:rgb(188,80,144,0.542711466550827);\">are</span> <span style=\"background-color:rgb(188,80,144,0.5537298023700714);\">normally</span> <span style=\"background-color:rgb(188,80,144,0.5713299214839935);\">made</span> <span style=\"background-color:rgb(188,80,144,0.5018321424722672);\">only</span> <span style=\"background-color:rgb(188,80,144,0.47306571900844574);\">by</span> <span style=\"background-color:rgb(188,80,144,0.5995917320251465);\">artists</span> <span style=\"background-color:rgb(188,80,144,0.5480688661336899);\">and</span> <span style=\"background-color:rgb(188,80,144,0.5244783908128738);\">conspiracy</span> <span style=\"background-color:rgb(188,80,144,0.48548220098018646);\">theorists</span> <span style=\"background-color:rgb(188,80,144,0.45857521891593933);\">-</span> <span style=\"background-color:rgb(188,80,144,0.47930189967155457);\">both</span> <span style=\"background-color:rgb(188,80,144,0.5309404134750366);\">of</span> <span style=\"background-color:rgb(188,80,144,0.5548841804265976);\">whom</span> <span style=\"background-color:rgb(188,80,144,0.5914181917905807);\">figure</span> <span style=\"background-color:rgb(188,80,144,0.6055296510457993);\">prominently</span> <span style=\"background-color:rgb(188,80,144,0.6101944148540497);\">in</span> <span style=\"background-color:rgb(188,80,144,0.6455054730176926);\">this</span> <span style=\"background-color:rgb(188,80,144,0.6565576046705246);\">film</span> <span style=\"background-color:rgb(188,80,144,0.6338021904230118);\">.</span> <span style=\"background-color:rgb(188,80,144,0.602992370724678);\">The</span> <span style=\"background-color:rgb(188,80,144,0.615749180316925);\">Unrecovered</span> <span style=\"background-color:rgb(188,80,144,0.6464415192604065);\">explores</span> <span style=\"background-color:rgb(188,80,144,0.6650579273700714);\">the</span>"
      ],
      "text/plain": [
       "<IPython.core.display.HTML object>"
      ]
     },
     "metadata": {},
     "output_type": "display_data"
    }
   ],
   "source": [
    "for movie_index in range(3):\n",
    "    display_description_with_classes(movie_index, max_alpha=0.75)"
   ]
  },
  {
   "cell_type": "markdown",
   "id": "4fffce60-9597-40b7-bdf6-478be895d127",
   "metadata": {},
   "source": [
    "### 5.2 Class Contribution\n",
    "\n",
    "The previous visualization only shows the confidence for the predicted class. Component (C) shows the evolution of the model's confidence for each class."
   ]
  },
  {
   "cell_type": "code",
   "execution_count": 38,
   "id": "e1d8b0bc-c44c-4f6c-aa7c-e307488b9541",
   "metadata": {},
   "outputs": [],
   "source": [
    "conn = sqlite3.connect('data/imdb_app.db')\n",
    "cursor = conn.cursor()"
   ]
  },
  {
   "cell_type": "code",
   "execution_count": 39,
   "id": "8ebadf9c-698a-44c4-ab45-748c61c013fc",
   "metadata": {},
   "outputs": [],
   "source": [
    "movie_index = 0\n",
    "res = cursor.execute(\n",
    "    '''\n",
    "    SELECT * FROM Hiddens_Outputs\n",
    "    WHERE movie_id = {i}\n",
    "    '''.format(i=movie_index)\n",
    ")\n",
    "ho = res.fetchall()\n",
    "conn.close()"
   ]
  },
  {
   "cell_type": "code",
   "execution_count": 40,
   "id": "c1c550fc-ddb1-42b3-abff-df12be8a319c",
   "metadata": {},
   "outputs": [],
   "source": [
    "hiddens = np.array([np.frombuffer(ho_layer[3], dtype=np.float32) for ho_layer in ho])\n",
    "outputs = np.array([np.frombuffer(ho_layer[5], dtype=np.float32) for ho_layer in ho])\n",
    "predictions = [np.frombuffer(ho_layer[6], dtype=np.int64).item() for ho_layer in ho]\n",
    "confidences = [np.frombuffer(ho_layer[7], dtype=np.float32).item() for ho_layer in ho]"
   ]
  },
  {
   "cell_type": "code",
   "execution_count": 41,
   "id": "fb6b5353-5f25-441e-866a-81c1501ddb4f",
   "metadata": {},
   "outputs": [],
   "source": [
    "colors1 = []\n",
    "colors2 = []\n",
    "colors3 = []\n",
    "prediction_colors = []\n",
    "line_colors = []\n",
    "max_alpha=1\n",
    "for i, output in enumerate(outputs):\n",
    "    confidence1 = output[0].item()\n",
    "    colors1.append(tuple(color_float_map[0] + [confidence1*max_alpha]))\n",
    "\n",
    "    confidence2 = output[1].item()\n",
    "    colors2.append(tuple(color_float_map[1] + [confidence2*max_alpha]))\n",
    "    \n",
    "    confidence3 = output[2].item()\n",
    "    colors3.append(tuple(color_float_map[2] + [confidence3*max_alpha]))\n",
    "\n",
    "    pred = predictions[i]\n",
    "    confidence = confidences[i]\n",
    "    prediction_colors.append(tuple(color_float_map[pred] + [confidence*max_alpha]))"
   ]
  },
  {
   "cell_type": "code",
   "execution_count": 42,
   "id": "b0ee86b3-cd5c-4a63-827b-468e880cc98f",
   "metadata": {},
   "outputs": [],
   "source": [
    "colors_all = colors1 + colors2 + colors3"
   ]
  },
  {
   "cell_type": "code",
   "execution_count": 43,
   "id": "05616088-662f-4409-abf4-d6bd6a5792c9",
   "metadata": {},
   "outputs": [],
   "source": [
    "heatmap_df = pd.DataFrame({'drama': [i for i in range(len(outputs))], \n",
    "                           'documentary': [i for i in range(len(outputs), 2*len(outputs))], \n",
    "                           'comedy': [i for i in range(2*len(outputs), 3*len(outputs))]})"
   ]
  },
  {
   "cell_type": "code",
   "execution_count": 44,
   "id": "312292a4-0728-46ec-99b1-a70c07b626ea",
   "metadata": {},
   "outputs": [
    {
     "data": {
      "image/png": "[encoded data removed]",
      "text/plain": [
       "<Figure size 800x200 with 1 Axes>"
      ]
     },
     "metadata": {},
     "output_type": "display_data"
    }
   ],
   "source": [
    "fig = plt.figure(figsize=(8,2))\n",
    "ax = fig.add_subplot()\n",
    "\n",
    "sns.heatmap(heatmap_df.T, cmap=colors_all, \n",
    "            cbar=None,\n",
    "            ax=ax)\n",
    "\n",
    "plt.show()\n",
    "plt.close()"
   ]
  },
  {
   "cell_type": "markdown",
   "id": "f96426cc-b13f-464a-b145-50c008a51750",
   "metadata": {},
   "source": [
    "### 5.3 Hidden State Distances\n",
    "\n",
    "Component (D) gives us a glimpse of which steps in the sequence have the most impact on the model's predictions. At each step, it calculates the distance between the model's hidden state at that step and the hidden state at the previous step. The idea is that input words that move the hidden state by a greater distance are more impactful. It displays the information in a bar chart, with normalized distance represented by bar height and predictions (with confidence) represented by bar color."
   ]
  },
  {
   "cell_type": "code",
   "execution_count": 45,
   "id": "10144538-9731-4cf9-ad2e-ed09408415c7",
   "metadata": {},
   "outputs": [],
   "source": [
    "def hidden_distances(hiddens):\n",
    "    hiddens_lag = np.concatenate([np.zeros((1, hidden_size)), hiddens[:-1]])\n",
    "    distances = np.sqrt(np.sum(np.square(hiddens - hiddens_lag), axis=1))\n",
    "    return distances\n",
    "    \n",
    "def get_max_hidden_distance(all_hidden_states): # all_hidden_states is an iterable of tensors\n",
    "    return max(hidden_distances(hiddens).max() for hiddens in all_hidden_states)  \n",
    "\n",
    "def predictions_to_colors(predictions, confidences, max_alpha=0.75):\n",
    "    return [tuple(color_float_map[pred] + [confidences[i]*max_alpha]) for i, pred in enumerate(predictions)]"
   ]
  },
  {
   "cell_type": "code",
   "execution_count": 46,
   "id": "b0dd5c91-36ce-4db6-b8ff-89af84d3384a",
   "metadata": {},
   "outputs": [],
   "source": [
    "with open('data/imdb_hiddens_{}_{}_{}.pkl'.format(len(GENRES), MIN_FREQ, MAX_LENGTH), 'rb') as f:\n",
    "    all_hidden_states = pickle.load(f)"
   ]
  },
  {
   "cell_type": "code",
   "execution_count": 47,
   "id": "1229be07-08e8-48cf-b49d-677b84bb4606",
   "metadata": {},
   "outputs": [],
   "source": [
    "max_hidden_distance = get_max_hidden_distance(all_hidden_states)"
   ]
  },
  {
   "cell_type": "code",
   "execution_count": 48,
   "id": "c421d13a-5031-49f2-a92f-67543811d466",
   "metadata": {},
   "outputs": [],
   "source": [
    "distances = hidden_distances(hiddens)\n",
    "distances_norm = distances/max_hidden_distance # PROBLEM: THESE HIDDENS ARE 2D HIDDENS. MAX-D HIDDENS WERE REPLACED IN THE DB."
   ]
  },
  {
   "cell_type": "code",
   "execution_count": 49,
   "id": "2378780a-f90d-4e59-892e-ed288b3e25f1",
   "metadata": {},
   "outputs": [],
   "source": [
    "movie_colors = predictions_to_colors(predictions, confidences, max_alpha=1)"
   ]
  },
  {
   "cell_type": "code",
   "execution_count": 50,
   "id": "e3002824-eff7-4ddf-811e-0edebf354c6a",
   "metadata": {},
   "outputs": [
    {
     "data": {
      "image/png": "[encoded data removed]",
      "text/plain": [
       "<Figure size 640x480 with 1 Axes>"
      ]
     },
     "metadata": {},
     "output_type": "display_data"
    }
   ],
   "source": [
    "fig = plt.figure()\n",
    "ax = fig.add_subplot()\n",
    "\n",
    "ax.bar(x=[i for i in range(len(outputs))], \n",
    "       height=distances_norm,#.detach().numpy(),\n",
    "       color=movie_colors)\n",
    "\n",
    "plt.show()\n",
    "plt.close()"
   ]
  },
  {
   "cell_type": "markdown",
   "id": "b289a91f-31b9-436d-a52e-a493fed0e0dd",
   "metadata": {},
   "source": [
    "### 5.4 Hidden State Projection\n",
    "\n",
    "Component (E) serves a dual purpose, giving us general information about the distribution of hidden states and predictions while showing how a given example evolves within that distribution. To create this visualization, we project the hidden states into 2 dimensions and color the points as in component (D) using the model's outputs. The original authors use t-SNE as their projection method, but we'll use PCA since it's less computationally expensive."
   ]
  },
  {
   "cell_type": "code",
   "execution_count": 51,
   "id": "ac9ae74e-04bd-4a60-b8a3-53f16a0e1d90",
   "metadata": {},
   "outputs": [],
   "source": [
    "with open('data/imdb_outputs_{}_{}_{}.pkl'.format(len(GENRES), MIN_FREQ, MAX_LENGTH), 'rb') as f:\n",
    "    all_outputs = pickle.load(f)\n",
    "\n",
    "with open('data/imdb_predictions_{}_{}_{}.pkl'.format(len(GENRES), MIN_FREQ, MAX_LENGTH), 'rb') as f:\n",
    "    all_predictions = pickle.load(f)"
   ]
  },
  {
   "cell_type": "code",
   "execution_count": 52,
   "id": "26b5ccb0-b0b9-451f-8b7c-7f8d7019c135",
   "metadata": {},
   "outputs": [],
   "source": [
    "outputs_tensor = np.concatenate(all_outputs)\n",
    "predictions_tensor = np.concatenate(all_predictions)"
   ]
  },
  {
   "cell_type": "markdown",
   "id": "19d94799-b4dd-48a4-93c6-6c3374bc62c2",
   "metadata": {},
   "source": [
    "save_model_states.py fits a PCA model to the training data and pickles everything."
   ]
  },
  {
   "cell_type": "code",
   "execution_count": 53,
   "id": "13aac261-e1d3-44e0-9d9c-1791e7bc9f26",
   "metadata": {},
   "outputs": [
    {
     "name": "stderr",
     "output_type": "stream",
     "text": [
      "C:\\Users\\steve\\anaconda3\\Lib\\site-packages\\sklearn\\base.py:318: UserWarning: Trying to unpickle estimator IncrementalPCA from version 1.4.1.post1 when using version 1.2.2. This might lead to breaking code or invalid results. Use at your own risk. For more info please refer to:\n",
      "https://scikit-learn.org/stable/model_persistence.html#security-maintainability-limitations\n",
      "  warnings.warn(\n"
     ]
    }
   ],
   "source": [
    "with open('saved_models/pca_{}_{}_{}.pkl'.format(len(GENRES), MIN_FREQ, MAX_LENGTH), 'rb') as f:\n",
    "    ipca = pickle.load(f)\n",
    "with open('data/imdb_hiddens_{}_{}_{}_pca.pkl'.format(len(GENRES), MIN_FREQ, MAX_LENGTH), 'rb') as f:\n",
    "    hidden_pca = pickle.load(f)"
   ]
  },
  {
   "cell_type": "code",
   "execution_count": 54,
   "id": "0ccc2c5c-5f5d-418c-808e-e939bf3c02af",
   "metadata": {},
   "outputs": [],
   "source": [
    "scatter_colors = []\n",
    "max_alpha=0.4\n",
    "for i, output in enumerate(outputs_tensor):\n",
    "    pred = predictions_tensor[i]\n",
    "    confidence = output[pred].item()\n",
    "    scatter_colors.append(tuple(color_float_map[pred.item()] + [confidence*max_alpha]))"
   ]
  },
  {
   "cell_type": "code",
   "execution_count": 55,
   "id": "2d77c54e-d201-4533-82c0-b6bf6579ef6a",
   "metadata": {},
   "outputs": [],
   "source": [
    "hidden_2D_df = pd.DataFrame(hidden_pca[:,0:2], columns=['x','y'])\n",
    "hidden_2D_df['scatter_color'] = scatter_colors"
   ]
  },
  {
   "cell_type": "markdown",
   "id": "13936ba1-72a1-481e-a49f-184e00a24704",
   "metadata": {},
   "source": [
    "To improve graphing performance, we display a relatively small random sample of the projected points."
   ]
  },
  {
   "cell_type": "code",
   "execution_count": 56,
   "id": "bba3c911-ddab-4215-8146-611c694a4598",
   "metadata": {},
   "outputs": [],
   "source": [
    "temp = hidden_2D_df.sample(frac=0.001)"
   ]
  },
  {
   "cell_type": "code",
   "execution_count": 57,
   "id": "168fb631-7e57-4d5a-a296-708562df410e",
   "metadata": {},
   "outputs": [],
   "source": [
    "hiddens_transformed = ipca.transform(hiddens)"
   ]
  },
  {
   "cell_type": "code",
   "execution_count": 58,
   "id": "44782616-5c20-4c73-9ed8-92aefc71aa95",
   "metadata": {},
   "outputs": [
    {
     "data": {
      "image/png": "[encoded data removed]",
      "text/plain": [
       "<Figure size 640x480 with 1 Axes>"
      ]
     },
     "metadata": {},
     "output_type": "display_data"
    }
   ],
   "source": [
    "fig = plt.figure()\n",
    "ax = fig.add_subplot()\n",
    "\n",
    "ax.scatter(temp['x'], temp['y'], marker='.', c=temp['scatter_color'])\n",
    "for i, coords in enumerate(hiddens_transformed[:50]):\n",
    "    ax.plot(hiddens_transformed[i:i+2,0], hiddens_transformed[i:i+2,1], \n",
    "            c=movie_colors[i],\n",
    "            linewidth=3)\n",
    "\n",
    "plt.show()\n",
    "plt.close()"
   ]
  },
  {
   "cell_type": "markdown",
   "id": "2d523bc1-55b3-446d-bc61-399eed7da000",
   "metadata": {},
   "source": [
    "The 2D projection does a pretty good job separating the class predictions. The first principal component (X-axis) separates documentaries from dramas and comedies, and the second principal component separates dramas from comedies.\n",
    "\n",
    "The colored lines show the progression of the example movie description through the hidden state space."
   ]
  }
 ],
 "metadata": {
  "kernelspec": {
   "display_name": "Python 3 (ipykernel)",
   "language": "python",
   "name": "python3"
  },
  "language_info": {
   "codemirror_mode": {
    "name": "ipython",
    "version": 3
   },
   "file_extension": ".py",
   "mimetype": "text/x-python",
   "name": "python",
   "nbconvert_exporter": "python",
   "pygments_lexer": "ipython3",
   "version": "3.11.7"
  }
 },
 "nbformat": 4,
 "nbformat_minor": 5
}
